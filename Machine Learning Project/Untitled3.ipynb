{
 "cells": [
  {
   "cell_type": "code",
   "execution_count": 1,
   "metadata": {},
   "outputs": [],
   "source": [
    "import numpy as np \n",
    "import pandas as pd \n",
    "import os\n",
    "import sklearn\n",
    "import re\n",
    "from sklearn.ensemble import RandomForestRegressor\n",
    "import matplotlib.pyplot as plt\n",
    "from sklearn import metrics\n",
    "from sklearn.metrics import accuracy_score\n",
    "from sklearn.preprocessing import RobustScaler\n",
    "from sklearn.model_selection import train_test_split, GridSearchCV, cross_val_score\n",
    "from sklearn.linear_model import LogisticRegression\n",
    "from sklearn.tree import DecisionTreeClassifier\n",
    "from sklearn.ensemble import RandomForestClassifier, VotingClassifier\n",
    "from sklearn.ensemble import ExtraTreesClassifier\n",
    "from sklearn.neighbors import KNeighborsClassifier\n",
    "from sklearn.pipeline import Pipeline\n",
    "from sklearn.pipeline import make_pipeline\n",
    "from sklearn.preprocessing import StandardScaler\n",
    "from sklearn.preprocessing import OneHotEncoder\n",
    "from sklearn.preprocessing import Binarizer\n",
    "from sklearn import preprocessing\n",
    "from sklearn.linear_model import LinearRegression"
   ]
  },
  {
   "cell_type": "code",
   "execution_count": 2,
   "metadata": {},
   "outputs": [
    {
     "data": {
      "text/html": [
       "<div>\n",
       "<style scoped>\n",
       "    .dataframe tbody tr th:only-of-type {\n",
       "        vertical-align: middle;\n",
       "    }\n",
       "\n",
       "    .dataframe tbody tr th {\n",
       "        vertical-align: top;\n",
       "    }\n",
       "\n",
       "    .dataframe thead th {\n",
       "        text-align: right;\n",
       "    }\n",
       "</style>\n",
       "<table border=\"1\" class=\"dataframe\">\n",
       "  <thead>\n",
       "    <tr style=\"text-align: right;\">\n",
       "      <th></th>\n",
       "      <th>title_x</th>\n",
       "      <th>imdb_id</th>\n",
       "      <th>poster_path</th>\n",
       "      <th>wiki_link</th>\n",
       "      <th>title_y</th>\n",
       "      <th>original_title</th>\n",
       "      <th>is_adult</th>\n",
       "      <th>year_of_release</th>\n",
       "      <th>runtime</th>\n",
       "      <th>genres</th>\n",
       "      <th>imdb_rating</th>\n",
       "      <th>imdb_votes</th>\n",
       "      <th>story</th>\n",
       "      <th>summary</th>\n",
       "      <th>tagline</th>\n",
       "      <th>actors</th>\n",
       "      <th>wins_nominations</th>\n",
       "      <th>release_date</th>\n",
       "      <th>budget</th>\n",
       "      <th>box office</th>\n",
       "    </tr>\n",
       "  </thead>\n",
       "  <tbody>\n",
       "    <tr>\n",
       "      <th>0</th>\n",
       "      <td>Uri: The Surgical Strike</td>\n",
       "      <td>tt8291224</td>\n",
       "      <td>https://upload.wikimedia.org/wikipedia/en/thum...</td>\n",
       "      <td>https://en.wikipedia.org/wiki/Uri:_The_Surgica...</td>\n",
       "      <td>Uri: The Surgical Strike</td>\n",
       "      <td>Uri: The Surgical Strike</td>\n",
       "      <td>0</td>\n",
       "      <td>2019</td>\n",
       "      <td>138</td>\n",
       "      <td>Action|Drama|War</td>\n",
       "      <td>8.4</td>\n",
       "      <td>35112</td>\n",
       "      <td>Divided over five chapters the film chronicles...</td>\n",
       "      <td>Indian army special forces execute a covert op...</td>\n",
       "      <td>NaN</td>\n",
       "      <td>Vicky Kaushal|Paresh Rawal|Mohit Raina|Yami Ga...</td>\n",
       "      <td>4 wins</td>\n",
       "      <td>11 January 2019 (USA)</td>\n",
       "      <td>25.00</td>\n",
       "      <td>342.06</td>\n",
       "    </tr>\n",
       "    <tr>\n",
       "      <th>1</th>\n",
       "      <td>Battalion 609</td>\n",
       "      <td>tt9472208</td>\n",
       "      <td>NaN</td>\n",
       "      <td>https://en.wikipedia.org/wiki/Battalion_609</td>\n",
       "      <td>Battalion 609</td>\n",
       "      <td>Battalion 609</td>\n",
       "      <td>0</td>\n",
       "      <td>2019</td>\n",
       "      <td>131</td>\n",
       "      <td>War</td>\n",
       "      <td>4.1</td>\n",
       "      <td>73</td>\n",
       "      <td>The story revolves around a cricket match betw...</td>\n",
       "      <td>The story of Battalion 609 revolves around a c...</td>\n",
       "      <td>NaN</td>\n",
       "      <td>Vicky Ahuja|Shoaib Ibrahim|Shrikant Kamat|Elen...</td>\n",
       "      <td>NaN</td>\n",
       "      <td>11 January 2019 (India)</td>\n",
       "      <td>0.01</td>\n",
       "      <td>2.70</td>\n",
       "    </tr>\n",
       "    <tr>\n",
       "      <th>2</th>\n",
       "      <td>The Accidental Prime Minister (film)</td>\n",
       "      <td>tt6986710</td>\n",
       "      <td>https://upload.wikimedia.org/wikipedia/en/thum...</td>\n",
       "      <td>https://en.wikipedia.org/wiki/The_Accidental_P...</td>\n",
       "      <td>The Accidental Prime Minister</td>\n",
       "      <td>The Accidental Prime Minister</td>\n",
       "      <td>0</td>\n",
       "      <td>2019</td>\n",
       "      <td>112</td>\n",
       "      <td>Biography|Drama</td>\n",
       "      <td>6.1</td>\n",
       "      <td>5549</td>\n",
       "      <td>Based on the memoir by Indian policy analyst S...</td>\n",
       "      <td>Explores Manmohan Singh's tenure as the Prime ...</td>\n",
       "      <td>NaN</td>\n",
       "      <td>Anupam Kher|Akshaye Khanna|Aahana Kumra|Atul S...</td>\n",
       "      <td>NaN</td>\n",
       "      <td>11 January 2019 (USA)</td>\n",
       "      <td>18.00</td>\n",
       "      <td>22.65</td>\n",
       "    </tr>\n",
       "    <tr>\n",
       "      <th>3</th>\n",
       "      <td>Why Cheat India</td>\n",
       "      <td>tt8108208</td>\n",
       "      <td>https://upload.wikimedia.org/wikipedia/en/thum...</td>\n",
       "      <td>https://en.wikipedia.org/wiki/Why_Cheat_India</td>\n",
       "      <td>Why Cheat India</td>\n",
       "      <td>Why Cheat India</td>\n",
       "      <td>0</td>\n",
       "      <td>2019</td>\n",
       "      <td>121</td>\n",
       "      <td>Crime|Drama</td>\n",
       "      <td>6.0</td>\n",
       "      <td>1891</td>\n",
       "      <td>The movie focuses on existing malpractices in ...</td>\n",
       "      <td>The movie focuses on existing malpractices in ...</td>\n",
       "      <td>NaN</td>\n",
       "      <td>Emraan Hashmi|Shreya Dhanwanthary|Snighdadeep ...</td>\n",
       "      <td>NaN</td>\n",
       "      <td>18 January 2019 (USA)</td>\n",
       "      <td>20.00</td>\n",
       "      <td>10.54</td>\n",
       "    </tr>\n",
       "    <tr>\n",
       "      <th>4</th>\n",
       "      <td>Evening Shadows</td>\n",
       "      <td>tt6028796</td>\n",
       "      <td>NaN</td>\n",
       "      <td>https://en.wikipedia.org/wiki/Evening_Shadows</td>\n",
       "      <td>Evening Shadows</td>\n",
       "      <td>Evening Shadows</td>\n",
       "      <td>0</td>\n",
       "      <td>2018</td>\n",
       "      <td>102</td>\n",
       "      <td>Drama</td>\n",
       "      <td>7.3</td>\n",
       "      <td>280</td>\n",
       "      <td>While gay rights and marriage equality has bee...</td>\n",
       "      <td>Under the 'Evening Shadows' truth often plays ...</td>\n",
       "      <td>NaN</td>\n",
       "      <td>Mona Ambegaonkar|Ananth Narayan Mahadevan|Deva...</td>\n",
       "      <td>17 wins &amp; 1 nomination</td>\n",
       "      <td>11 January 2019 (India)</td>\n",
       "      <td>2.75</td>\n",
       "      <td>2.50</td>\n",
       "    </tr>\n",
       "    <tr>\n",
       "      <th>...</th>\n",
       "      <td>...</td>\n",
       "      <td>...</td>\n",
       "      <td>...</td>\n",
       "      <td>...</td>\n",
       "      <td>...</td>\n",
       "      <td>...</td>\n",
       "      <td>...</td>\n",
       "      <td>...</td>\n",
       "      <td>...</td>\n",
       "      <td>...</td>\n",
       "      <td>...</td>\n",
       "      <td>...</td>\n",
       "      <td>...</td>\n",
       "      <td>...</td>\n",
       "      <td>...</td>\n",
       "      <td>...</td>\n",
       "      <td>...</td>\n",
       "      <td>...</td>\n",
       "      <td>...</td>\n",
       "      <td>...</td>\n",
       "    </tr>\n",
       "    <tr>\n",
       "      <th>4324</th>\n",
       "      <td>Samadhi (1950 film)</td>\n",
       "      <td>tt0268614</td>\n",
       "      <td>https://upload.wikimedia.org/wikipedia/en/thum...</td>\n",
       "      <td>https://en.wikipedia.org/wiki/Samadhi_(1950_film)</td>\n",
       "      <td>Samadhi</td>\n",
       "      <td>Samadhi</td>\n",
       "      <td>0</td>\n",
       "      <td>1950</td>\n",
       "      <td>165</td>\n",
       "      <td>Drama</td>\n",
       "      <td>6.1</td>\n",
       "      <td>21</td>\n",
       "      <td>The story is based on the true incident at INA...</td>\n",
       "      <td>The story is based on the true incident at INA...</td>\n",
       "      <td>NaN</td>\n",
       "      <td>Ashok Kumar|Nalini Jaywant|Kuldip Kaur|Shyam|M...</td>\n",
       "      <td>NaN</td>\n",
       "      <td>NaN</td>\n",
       "      <td>NaN</td>\n",
       "      <td>NaN</td>\n",
       "    </tr>\n",
       "    <tr>\n",
       "      <th>4325</th>\n",
       "      <td>Sangram (1950 film)</td>\n",
       "      <td>tt0244182</td>\n",
       "      <td>https://upload.wikimedia.org/wikipedia/en/thum...</td>\n",
       "      <td>https://en.wikipedia.org/wiki/Sangram_(1950_film)</td>\n",
       "      <td>Sangram</td>\n",
       "      <td>Sangram</td>\n",
       "      <td>0</td>\n",
       "      <td>1950</td>\n",
       "      <td>139</td>\n",
       "      <td>Drama</td>\n",
       "      <td>6.2</td>\n",
       "      <td>20</td>\n",
       "      <td>After the death of his wife a policeman fails ...</td>\n",
       "      <td>After the death of his wife a policeman fails ...</td>\n",
       "      <td>NaN</td>\n",
       "      <td>Ashok Kumar|Nalini Jaywant|Nawab|Sajjan|Tiwari...</td>\n",
       "      <td>NaN</td>\n",
       "      <td>NaN</td>\n",
       "      <td>NaN</td>\n",
       "      <td>NaN</td>\n",
       "    </tr>\n",
       "    <tr>\n",
       "      <th>4326</th>\n",
       "      <td>Sargam (1950 film)</td>\n",
       "      <td>tt0269826</td>\n",
       "      <td>NaN</td>\n",
       "      <td>https://en.wikipedia.org/wiki/Sargam_(1950_film)</td>\n",
       "      <td>Melody</td>\n",
       "      <td>Sargam</td>\n",
       "      <td>0</td>\n",
       "      <td>1950</td>\n",
       "      <td>135</td>\n",
       "      <td>Drama|Family</td>\n",
       "      <td>6.8</td>\n",
       "      <td>21</td>\n",
       "      <td>NaN</td>\n",
       "      <td>Add a Plot »</td>\n",
       "      <td>NaN</td>\n",
       "      <td>Raj Kapoor|Rehana|Om Prakash|David Abraham|Rad...</td>\n",
       "      <td>NaN</td>\n",
       "      <td>4 February 1957 (Iran)</td>\n",
       "      <td>NaN</td>\n",
       "      <td>NaN</td>\n",
       "    </tr>\n",
       "    <tr>\n",
       "      <th>4327</th>\n",
       "      <td>Sheesh Mahal (1950 film)</td>\n",
       "      <td>tt0243555</td>\n",
       "      <td>https://upload.wikimedia.org/wikipedia/en/thum...</td>\n",
       "      <td>https://en.wikipedia.org/wiki/Sheesh_Mahal_(19...</td>\n",
       "      <td>Sheesh Mahal</td>\n",
       "      <td>Sheesh Mahal</td>\n",
       "      <td>0</td>\n",
       "      <td>1950</td>\n",
       "      <td>144</td>\n",
       "      <td>Drama</td>\n",
       "      <td>7.0</td>\n",
       "      <td>13</td>\n",
       "      <td>Thakur Jaspal Singh lives in the prestigious a...</td>\n",
       "      <td>Thakur Jaspal Singh lives in the prestigious a...</td>\n",
       "      <td>NaN</td>\n",
       "      <td>Sohrab Modi|Naseem Banu|Pushpa Hans|Nigar Sult...</td>\n",
       "      <td>NaN</td>\n",
       "      <td>NaN</td>\n",
       "      <td>NaN</td>\n",
       "      <td>NaN</td>\n",
       "    </tr>\n",
       "    <tr>\n",
       "      <th>4328</th>\n",
       "      <td>Meena Bazaar (film)</td>\n",
       "      <td>tt0213081</td>\n",
       "      <td>NaN</td>\n",
       "      <td>https://en.wikipedia.org/wiki/Meena_Bazaar_(19...</td>\n",
       "      <td>Meena Bazaar</td>\n",
       "      <td>Meena Bazaar</td>\n",
       "      <td>0</td>\n",
       "      <td>1950</td>\n",
       "      <td>\\N</td>\n",
       "      <td>Drama</td>\n",
       "      <td>7.0</td>\n",
       "      <td>9</td>\n",
       "      <td>NaN</td>\n",
       "      <td>Add a Plot »</td>\n",
       "      <td>NaN</td>\n",
       "      <td>NaN</td>\n",
       "      <td>NaN</td>\n",
       "      <td>NaN</td>\n",
       "      <td>NaN</td>\n",
       "      <td>NaN</td>\n",
       "    </tr>\n",
       "  </tbody>\n",
       "</table>\n",
       "<p>4329 rows × 20 columns</p>\n",
       "</div>"
      ],
      "text/plain": [
       "                                   title_x    imdb_id  \\\n",
       "0                 Uri: The Surgical Strike  tt8291224   \n",
       "1                            Battalion 609  tt9472208   \n",
       "2     The Accidental Prime Minister (film)  tt6986710   \n",
       "3                          Why Cheat India  tt8108208   \n",
       "4                          Evening Shadows  tt6028796   \n",
       "...                                    ...        ...   \n",
       "4324                   Samadhi (1950 film)  tt0268614   \n",
       "4325                   Sangram (1950 film)  tt0244182   \n",
       "4326                    Sargam (1950 film)  tt0269826   \n",
       "4327              Sheesh Mahal (1950 film)  tt0243555   \n",
       "4328                   Meena Bazaar (film)  tt0213081   \n",
       "\n",
       "                                            poster_path  \\\n",
       "0     https://upload.wikimedia.org/wikipedia/en/thum...   \n",
       "1                                                   NaN   \n",
       "2     https://upload.wikimedia.org/wikipedia/en/thum...   \n",
       "3     https://upload.wikimedia.org/wikipedia/en/thum...   \n",
       "4                                                   NaN   \n",
       "...                                                 ...   \n",
       "4324  https://upload.wikimedia.org/wikipedia/en/thum...   \n",
       "4325  https://upload.wikimedia.org/wikipedia/en/thum...   \n",
       "4326                                                NaN   \n",
       "4327  https://upload.wikimedia.org/wikipedia/en/thum...   \n",
       "4328                                                NaN   \n",
       "\n",
       "                                              wiki_link  \\\n",
       "0     https://en.wikipedia.org/wiki/Uri:_The_Surgica...   \n",
       "1           https://en.wikipedia.org/wiki/Battalion_609   \n",
       "2     https://en.wikipedia.org/wiki/The_Accidental_P...   \n",
       "3         https://en.wikipedia.org/wiki/Why_Cheat_India   \n",
       "4         https://en.wikipedia.org/wiki/Evening_Shadows   \n",
       "...                                                 ...   \n",
       "4324  https://en.wikipedia.org/wiki/Samadhi_(1950_film)   \n",
       "4325  https://en.wikipedia.org/wiki/Sangram_(1950_film)   \n",
       "4326   https://en.wikipedia.org/wiki/Sargam_(1950_film)   \n",
       "4327  https://en.wikipedia.org/wiki/Sheesh_Mahal_(19...   \n",
       "4328  https://en.wikipedia.org/wiki/Meena_Bazaar_(19...   \n",
       "\n",
       "                            title_y                 original_title  is_adult  \\\n",
       "0          Uri: The Surgical Strike       Uri: The Surgical Strike         0   \n",
       "1                     Battalion 609                  Battalion 609         0   \n",
       "2     The Accidental Prime Minister  The Accidental Prime Minister         0   \n",
       "3                   Why Cheat India                Why Cheat India         0   \n",
       "4                   Evening Shadows                Evening Shadows         0   \n",
       "...                             ...                            ...       ...   \n",
       "4324                        Samadhi                        Samadhi         0   \n",
       "4325                        Sangram                        Sangram         0   \n",
       "4326                         Melody                         Sargam         0   \n",
       "4327                   Sheesh Mahal                   Sheesh Mahal         0   \n",
       "4328                   Meena Bazaar                   Meena Bazaar         0   \n",
       "\n",
       "      year_of_release runtime            genres  imdb_rating  imdb_votes  \\\n",
       "0                2019     138  Action|Drama|War          8.4       35112   \n",
       "1                2019     131               War          4.1          73   \n",
       "2                2019     112   Biography|Drama          6.1        5549   \n",
       "3                2019     121       Crime|Drama          6.0        1891   \n",
       "4                2018     102             Drama          7.3         280   \n",
       "...               ...     ...               ...          ...         ...   \n",
       "4324             1950     165             Drama          6.1          21   \n",
       "4325             1950     139             Drama          6.2          20   \n",
       "4326             1950     135      Drama|Family          6.8          21   \n",
       "4327             1950     144             Drama          7.0          13   \n",
       "4328             1950      \\N             Drama          7.0           9   \n",
       "\n",
       "                                                  story  \\\n",
       "0     Divided over five chapters the film chronicles...   \n",
       "1     The story revolves around a cricket match betw...   \n",
       "2     Based on the memoir by Indian policy analyst S...   \n",
       "3     The movie focuses on existing malpractices in ...   \n",
       "4     While gay rights and marriage equality has bee...   \n",
       "...                                                 ...   \n",
       "4324  The story is based on the true incident at INA...   \n",
       "4325  After the death of his wife a policeman fails ...   \n",
       "4326                                                NaN   \n",
       "4327  Thakur Jaspal Singh lives in the prestigious a...   \n",
       "4328                                                NaN   \n",
       "\n",
       "                                                summary tagline  \\\n",
       "0     Indian army special forces execute a covert op...     NaN   \n",
       "1     The story of Battalion 609 revolves around a c...     NaN   \n",
       "2     Explores Manmohan Singh's tenure as the Prime ...     NaN   \n",
       "3     The movie focuses on existing malpractices in ...     NaN   \n",
       "4     Under the 'Evening Shadows' truth often plays ...     NaN   \n",
       "...                                                 ...     ...   \n",
       "4324  The story is based on the true incident at INA...     NaN   \n",
       "4325  After the death of his wife a policeman fails ...     NaN   \n",
       "4326                                       Add a Plot »     NaN   \n",
       "4327  Thakur Jaspal Singh lives in the prestigious a...     NaN   \n",
       "4328                                       Add a Plot »     NaN   \n",
       "\n",
       "                                                 actors  \\\n",
       "0     Vicky Kaushal|Paresh Rawal|Mohit Raina|Yami Ga...   \n",
       "1     Vicky Ahuja|Shoaib Ibrahim|Shrikant Kamat|Elen...   \n",
       "2     Anupam Kher|Akshaye Khanna|Aahana Kumra|Atul S...   \n",
       "3     Emraan Hashmi|Shreya Dhanwanthary|Snighdadeep ...   \n",
       "4     Mona Ambegaonkar|Ananth Narayan Mahadevan|Deva...   \n",
       "...                                                 ...   \n",
       "4324  Ashok Kumar|Nalini Jaywant|Kuldip Kaur|Shyam|M...   \n",
       "4325  Ashok Kumar|Nalini Jaywant|Nawab|Sajjan|Tiwari...   \n",
       "4326  Raj Kapoor|Rehana|Om Prakash|David Abraham|Rad...   \n",
       "4327  Sohrab Modi|Naseem Banu|Pushpa Hans|Nigar Sult...   \n",
       "4328                                                NaN   \n",
       "\n",
       "            wins_nominations             release_date  budget  box office  \n",
       "0                     4 wins    11 January 2019 (USA)   25.00      342.06  \n",
       "1                        NaN  11 January 2019 (India)    0.01        2.70  \n",
       "2                        NaN    11 January 2019 (USA)   18.00       22.65  \n",
       "3                        NaN    18 January 2019 (USA)   20.00       10.54  \n",
       "4     17 wins & 1 nomination  11 January 2019 (India)    2.75        2.50  \n",
       "...                      ...                      ...     ...         ...  \n",
       "4324                     NaN                      NaN     NaN         NaN  \n",
       "4325                     NaN                      NaN     NaN         NaN  \n",
       "4326                     NaN   4 February 1957 (Iran)     NaN         NaN  \n",
       "4327                     NaN                      NaN     NaN         NaN  \n",
       "4328                     NaN                      NaN     NaN         NaN  \n",
       "\n",
       "[4329 rows x 20 columns]"
      ]
     },
     "execution_count": 2,
     "metadata": {},
     "output_type": "execute_result"
    }
   ],
   "source": [
    "train = pd.read_csv('bollywood_data.csv')\n",
    "train"
   ]
  },
  {
   "cell_type": "code",
   "execution_count": 3,
   "metadata": {},
   "outputs": [],
   "source": [
    "#Droping columns which are not useful\n",
    "train = train.drop(['title_x','title_y', 'imdb_id', 'poster_path', 'wiki_link', 'is_adult', 'tagline', 'release_date', 'story', 'summary'], axis=1)"
   ]
  },
  {
   "cell_type": "code",
   "execution_count": 4,
   "metadata": {},
   "outputs": [],
   "source": [
    "#Renaming columns for ease of references\n",
    "train = train.rename(columns={'original_title':'title', 'year_of_release':'year', 'imdb_rating':'rating', 'imdb_rating':'rating', 'imdb_votes':'votes', 'wins_nominations':'awards'})\n"
   ]
  },
  {
   "cell_type": "code",
   "execution_count": 5,
   "metadata": {},
   "outputs": [],
   "source": [
    "#Data cleaning\n",
    "train['box_office'] = train['box office']\n",
    "train = train.drop(['box office'], axis = 1)\n",
    "train['awards'] = train['awards'].apply(lambda x : re.sub(r'[A-Za-z]', '', str(x)))\n",
    "\n",
    "train[['wins', 'nominations']] = train.awards.str.split('&', expand= True)\n",
    "\n",
    "train['wins'] = train['wins'].str.strip()\n",
    "train['wins'] = train['wins'].apply(lambda x: 0 if x=='' else x)\n",
    "train['wins'] = train['wins'].replace(np.nan, 0)\n",
    "train['wins'] = train['wins'].astype(int)\n",
    "train['nominations'] = train['nominations'].replace(np.nan, 0)\n",
    "train['nominations'] = train['nominations'].astype(int)\n",
    "\n",
    "train['runtime'] = train['runtime'].replace('\\\\N', np.nan)\n",
    "train['runtime'] = train['runtime'].ffill()\n",
    "train['runtime'] = train['runtime'].astype(int)\n",
    "train = train[train['runtime'] >= 60]\n",
    "\n",
    "actors = train.actors.str.split('|', expand=True)\n",
    "train['lead_actor'] = actors[0]\n",
    "\n",
    "train[['genre', 'genre2', 'genre3']] = train.genres.str.split(\"|\", expand=True)\n",
    "train[['lead_actor1', 'lead_actor2', 'lead_actor3', 'lead_actor4']] = train.actors.str.split(\"|\", expand=True)[[0,1,2,3]]\n",
    "train.drop(['genres', 'awards', 'actors', 'genre2', 'genre3', 'nominations'], axis=1)\n",
    "minor_genre_list = ['Animation', 'Documentary', 'History', 'Music', 'War', 'Sci-Fi', 'Sport']\n",
    "train = train[~train['genre'].isin(minor_genre_list)]\n",
    "\n",
    "train = train.drop(['awards', 'genres','lead_actor','actors'], axis=1)\n",
    "train = train[train['year'] >= 2009]\n",
    "train = train.drop_duplicates()\n",
    "\n",
    "train[\"success\"] = np.where(\n",
    "   (train.box_office > train.budget), \n",
    "   \"1\", \n",
    "   \"0\"\n",
    ")\n",
    "train['success'] = train['success'].astype(int)"
   ]
  },
  {
   "cell_type": "code",
   "execution_count": null,
   "metadata": {},
   "outputs": [],
   "source": []
  },
  {
   "cell_type": "code",
   "execution_count": 6,
   "metadata": {},
   "outputs": [
    {
     "data": {
      "text/html": [
       "<div>\n",
       "<style scoped>\n",
       "    .dataframe tbody tr th:only-of-type {\n",
       "        vertical-align: middle;\n",
       "    }\n",
       "\n",
       "    .dataframe tbody tr th {\n",
       "        vertical-align: top;\n",
       "    }\n",
       "\n",
       "    .dataframe thead th {\n",
       "        text-align: right;\n",
       "    }\n",
       "</style>\n",
       "<table border=\"1\" class=\"dataframe\">\n",
       "  <thead>\n",
       "    <tr style=\"text-align: right;\">\n",
       "      <th></th>\n",
       "      <th>title</th>\n",
       "      <th>year</th>\n",
       "      <th>runtime</th>\n",
       "      <th>rating</th>\n",
       "      <th>votes</th>\n",
       "      <th>budget</th>\n",
       "      <th>box_office</th>\n",
       "      <th>wins</th>\n",
       "      <th>nominations</th>\n",
       "      <th>genre</th>\n",
       "      <th>genre2</th>\n",
       "      <th>genre3</th>\n",
       "      <th>lead_actor1</th>\n",
       "      <th>lead_actor2</th>\n",
       "      <th>lead_actor3</th>\n",
       "      <th>lead_actor4</th>\n",
       "      <th>success</th>\n",
       "    </tr>\n",
       "  </thead>\n",
       "  <tbody>\n",
       "    <tr>\n",
       "      <th>0</th>\n",
       "      <td>Uri: The Surgical Strike</td>\n",
       "      <td>2019</td>\n",
       "      <td>138</td>\n",
       "      <td>8.4</td>\n",
       "      <td>35112</td>\n",
       "      <td>25.00</td>\n",
       "      <td>342.06</td>\n",
       "      <td>4</td>\n",
       "      <td>0</td>\n",
       "      <td>Action</td>\n",
       "      <td>Drama</td>\n",
       "      <td>War</td>\n",
       "      <td>Vicky Kaushal</td>\n",
       "      <td>Paresh Rawal</td>\n",
       "      <td>Mohit Raina</td>\n",
       "      <td>Yami Gautam</td>\n",
       "      <td>1</td>\n",
       "    </tr>\n",
       "    <tr>\n",
       "      <th>2</th>\n",
       "      <td>The Accidental Prime Minister</td>\n",
       "      <td>2019</td>\n",
       "      <td>112</td>\n",
       "      <td>6.1</td>\n",
       "      <td>5549</td>\n",
       "      <td>18.00</td>\n",
       "      <td>22.65</td>\n",
       "      <td>0</td>\n",
       "      <td>0</td>\n",
       "      <td>Biography</td>\n",
       "      <td>Drama</td>\n",
       "      <td>None</td>\n",
       "      <td>Anupam Kher</td>\n",
       "      <td>Akshaye Khanna</td>\n",
       "      <td>Aahana Kumra</td>\n",
       "      <td>Atul Sharma</td>\n",
       "      <td>1</td>\n",
       "    </tr>\n",
       "    <tr>\n",
       "      <th>3</th>\n",
       "      <td>Why Cheat India</td>\n",
       "      <td>2019</td>\n",
       "      <td>121</td>\n",
       "      <td>6.0</td>\n",
       "      <td>1891</td>\n",
       "      <td>20.00</td>\n",
       "      <td>10.54</td>\n",
       "      <td>0</td>\n",
       "      <td>0</td>\n",
       "      <td>Crime</td>\n",
       "      <td>Drama</td>\n",
       "      <td>None</td>\n",
       "      <td>Emraan Hashmi</td>\n",
       "      <td>Shreya Dhanwanthary</td>\n",
       "      <td>Snighdadeep Chatterji</td>\n",
       "      <td>Navneet Srivastava</td>\n",
       "      <td>0</td>\n",
       "    </tr>\n",
       "    <tr>\n",
       "      <th>4</th>\n",
       "      <td>Evening Shadows</td>\n",
       "      <td>2018</td>\n",
       "      <td>102</td>\n",
       "      <td>7.3</td>\n",
       "      <td>280</td>\n",
       "      <td>2.75</td>\n",
       "      <td>2.50</td>\n",
       "      <td>17</td>\n",
       "      <td>1</td>\n",
       "      <td>Drama</td>\n",
       "      <td>None</td>\n",
       "      <td>None</td>\n",
       "      <td>Mona Ambegaonkar</td>\n",
       "      <td>Ananth Narayan Mahadevan</td>\n",
       "      <td>Devansh Doshi</td>\n",
       "      <td>Arpit Chaudhary</td>\n",
       "      <td>0</td>\n",
       "    </tr>\n",
       "    <tr>\n",
       "      <th>5</th>\n",
       "      <td>Soni</td>\n",
       "      <td>2018</td>\n",
       "      <td>97</td>\n",
       "      <td>7.2</td>\n",
       "      <td>1595</td>\n",
       "      <td>0.50</td>\n",
       "      <td>0.10</td>\n",
       "      <td>3</td>\n",
       "      <td>5</td>\n",
       "      <td>Drama</td>\n",
       "      <td>None</td>\n",
       "      <td>None</td>\n",
       "      <td>Geetika Vidya Ohlyan</td>\n",
       "      <td>Saloni Batra</td>\n",
       "      <td>Vikas Shukla</td>\n",
       "      <td>Mohit Chauhan</td>\n",
       "      <td>0</td>\n",
       "    </tr>\n",
       "    <tr>\n",
       "      <th>...</th>\n",
       "      <td>...</td>\n",
       "      <td>...</td>\n",
       "      <td>...</td>\n",
       "      <td>...</td>\n",
       "      <td>...</td>\n",
       "      <td>...</td>\n",
       "      <td>...</td>\n",
       "      <td>...</td>\n",
       "      <td>...</td>\n",
       "      <td>...</td>\n",
       "      <td>...</td>\n",
       "      <td>...</td>\n",
       "      <td>...</td>\n",
       "      <td>...</td>\n",
       "      <td>...</td>\n",
       "      <td>...</td>\n",
       "      <td>...</td>\n",
       "    </tr>\n",
       "    <tr>\n",
       "      <th>969</th>\n",
       "      <td>Chandni Chowk to China</td>\n",
       "      <td>2009</td>\n",
       "      <td>154</td>\n",
       "      <td>4.0</td>\n",
       "      <td>7266</td>\n",
       "      <td>80.00</td>\n",
       "      <td>120.00</td>\n",
       "      <td>1</td>\n",
       "      <td>3</td>\n",
       "      <td>Action</td>\n",
       "      <td>Comedy</td>\n",
       "      <td>None</td>\n",
       "      <td>Mithun Chakraborty</td>\n",
       "      <td>Akshay Kumar</td>\n",
       "      <td>Deepika Padukone</td>\n",
       "      <td>Ranvir Shorey</td>\n",
       "      <td>1</td>\n",
       "    </tr>\n",
       "    <tr>\n",
       "      <th>970</th>\n",
       "      <td>Familywala</td>\n",
       "      <td>2014</td>\n",
       "      <td>180</td>\n",
       "      <td>5.8</td>\n",
       "      <td>57</td>\n",
       "      <td>6.00</td>\n",
       "      <td>3.00</td>\n",
       "      <td>0</td>\n",
       "      <td>0</td>\n",
       "      <td>Comedy</td>\n",
       "      <td>Drama</td>\n",
       "      <td>Romance</td>\n",
       "      <td>Arjun Rampal</td>\n",
       "      <td>Dia Mirza</td>\n",
       "      <td>Ashok Saraf</td>\n",
       "      <td>Shoma Anand</td>\n",
       "      <td>0</td>\n",
       "    </tr>\n",
       "    <tr>\n",
       "      <th>971</th>\n",
       "      <td>Sunglass</td>\n",
       "      <td>2013</td>\n",
       "      <td>100</td>\n",
       "      <td>6.5</td>\n",
       "      <td>24</td>\n",
       "      <td>8.00</td>\n",
       "      <td>5.00</td>\n",
       "      <td>0</td>\n",
       "      <td>0</td>\n",
       "      <td>Comedy</td>\n",
       "      <td>Drama</td>\n",
       "      <td>Thriller</td>\n",
       "      <td>Jaya Bachchan</td>\n",
       "      <td>Madhavan</td>\n",
       "      <td>Tota Roy Chowdhury</td>\n",
       "      <td>Raima Sen</td>\n",
       "      <td>0</td>\n",
       "    </tr>\n",
       "    <tr>\n",
       "      <th>972</th>\n",
       "      <td>Sabse Bada Sukh</td>\n",
       "      <td>2018</td>\n",
       "      <td>100</td>\n",
       "      <td>6.1</td>\n",
       "      <td>13</td>\n",
       "      <td>10.00</td>\n",
       "      <td>7.00</td>\n",
       "      <td>0</td>\n",
       "      <td>0</td>\n",
       "      <td>Comedy</td>\n",
       "      <td>Drama</td>\n",
       "      <td>None</td>\n",
       "      <td>Vijay Arora</td>\n",
       "      <td>Asrani</td>\n",
       "      <td>Rajni Bala</td>\n",
       "      <td>Kumud Damle</td>\n",
       "      <td>0</td>\n",
       "    </tr>\n",
       "    <tr>\n",
       "      <th>973</th>\n",
       "      <td>Daaka</td>\n",
       "      <td>2019</td>\n",
       "      <td>136</td>\n",
       "      <td>7.4</td>\n",
       "      <td>38</td>\n",
       "      <td>12.00</td>\n",
       "      <td>20.00</td>\n",
       "      <td>0</td>\n",
       "      <td>0</td>\n",
       "      <td>Action</td>\n",
       "      <td>None</td>\n",
       "      <td>None</td>\n",
       "      <td>Gippy Grewal</td>\n",
       "      <td>Zareen Khan</td>\n",
       "      <td></td>\n",
       "      <td>None</td>\n",
       "      <td>1</td>\n",
       "    </tr>\n",
       "  </tbody>\n",
       "</table>\n",
       "<p>961 rows × 17 columns</p>\n",
       "</div>"
      ],
      "text/plain": [
       "                             title  year  runtime  rating  votes  budget  \\\n",
       "0         Uri: The Surgical Strike  2019      138     8.4  35112   25.00   \n",
       "2    The Accidental Prime Minister  2019      112     6.1   5549   18.00   \n",
       "3                  Why Cheat India  2019      121     6.0   1891   20.00   \n",
       "4                  Evening Shadows  2018      102     7.3    280    2.75   \n",
       "5                             Soni  2018       97     7.2   1595    0.50   \n",
       "..                             ...   ...      ...     ...    ...     ...   \n",
       "969         Chandni Chowk to China  2009      154     4.0   7266   80.00   \n",
       "970                     Familywala  2014      180     5.8     57    6.00   \n",
       "971                       Sunglass  2013      100     6.5     24    8.00   \n",
       "972                Sabse Bada Sukh  2018      100     6.1     13   10.00   \n",
       "973                          Daaka  2019      136     7.4     38   12.00   \n",
       "\n",
       "     box_office  wins  nominations      genre  genre2    genre3  \\\n",
       "0        342.06     4            0     Action   Drama       War   \n",
       "2         22.65     0            0  Biography   Drama      None   \n",
       "3         10.54     0            0      Crime   Drama      None   \n",
       "4          2.50    17            1      Drama    None      None   \n",
       "5          0.10     3            5      Drama    None      None   \n",
       "..          ...   ...          ...        ...     ...       ...   \n",
       "969      120.00     1            3     Action  Comedy      None   \n",
       "970        3.00     0            0     Comedy   Drama   Romance   \n",
       "971        5.00     0            0     Comedy   Drama  Thriller   \n",
       "972        7.00     0            0     Comedy   Drama      None   \n",
       "973       20.00     0            0     Action    None      None   \n",
       "\n",
       "              lead_actor1               lead_actor2            lead_actor3  \\\n",
       "0           Vicky Kaushal              Paresh Rawal            Mohit Raina   \n",
       "2             Anupam Kher            Akshaye Khanna           Aahana Kumra   \n",
       "3           Emraan Hashmi       Shreya Dhanwanthary  Snighdadeep Chatterji   \n",
       "4        Mona Ambegaonkar  Ananth Narayan Mahadevan          Devansh Doshi   \n",
       "5    Geetika Vidya Ohlyan              Saloni Batra           Vikas Shukla   \n",
       "..                    ...                       ...                    ...   \n",
       "969    Mithun Chakraborty              Akshay Kumar       Deepika Padukone   \n",
       "970          Arjun Rampal                 Dia Mirza            Ashok Saraf   \n",
       "971         Jaya Bachchan                  Madhavan     Tota Roy Chowdhury   \n",
       "972           Vijay Arora                    Asrani             Rajni Bala   \n",
       "973          Gippy Grewal               Zareen Khan                          \n",
       "\n",
       "            lead_actor4  success  \n",
       "0           Yami Gautam        1  \n",
       "2           Atul Sharma        1  \n",
       "3    Navneet Srivastava        0  \n",
       "4       Arpit Chaudhary        0  \n",
       "5         Mohit Chauhan        0  \n",
       "..                  ...      ...  \n",
       "969       Ranvir Shorey        1  \n",
       "970         Shoma Anand        0  \n",
       "971           Raima Sen        0  \n",
       "972         Kumud Damle        0  \n",
       "973                None        1  \n",
       "\n",
       "[961 rows x 17 columns]"
      ]
     },
     "execution_count": 6,
     "metadata": {},
     "output_type": "execute_result"
    }
   ],
   "source": [
    "train"
   ]
  },
  {
   "cell_type": "code",
   "execution_count": 7,
   "metadata": {},
   "outputs": [
    {
     "name": "stdout",
     "output_type": "stream",
     "text": [
      "<class 'pandas.core.frame.DataFrame'>\n",
      "Int64Index: 961 entries, 0 to 973\n",
      "Data columns (total 17 columns):\n",
      " #   Column       Non-Null Count  Dtype  \n",
      "---  ------       --------------  -----  \n",
      " 0   title        961 non-null    object \n",
      " 1   year         961 non-null    int64  \n",
      " 2   runtime      961 non-null    int32  \n",
      " 3   rating       961 non-null    float64\n",
      " 4   votes        961 non-null    int64  \n",
      " 5   budget       961 non-null    float64\n",
      " 6   box_office   961 non-null    float64\n",
      " 7   wins         961 non-null    int32  \n",
      " 8   nominations  961 non-null    int32  \n",
      " 9   genre        961 non-null    object \n",
      " 10  genre2       762 non-null    object \n",
      " 11  genre3       424 non-null    object \n",
      " 12  lead_actor1  960 non-null    object \n",
      " 13  lead_actor2  960 non-null    object \n",
      " 14  lead_actor3  943 non-null    object \n",
      " 15  lead_actor4  906 non-null    object \n",
      " 16  success      961 non-null    int32  \n",
      "dtypes: float64(3), int32(4), int64(2), object(8)\n",
      "memory usage: 120.1+ KB\n"
     ]
    }
   ],
   "source": [
    "train.info()"
   ]
  },
  {
   "cell_type": "code",
   "execution_count": null,
   "metadata": {},
   "outputs": [],
   "source": []
  },
  {
   "cell_type": "code",
   "execution_count": null,
   "metadata": {},
   "outputs": [],
   "source": []
  },
  {
   "cell_type": "code",
   "execution_count": null,
   "metadata": {},
   "outputs": [],
   "source": []
  },
  {
   "cell_type": "code",
   "execution_count": null,
   "metadata": {},
   "outputs": [],
   "source": []
  },
  {
   "cell_type": "code",
   "execution_count": null,
   "metadata": {},
   "outputs": [],
   "source": []
  },
  {
   "cell_type": "markdown",
   "metadata": {},
   "source": [
    "# Logistic Regression"
   ]
  },
  {
   "cell_type": "code",
   "execution_count": 47,
   "metadata": {},
   "outputs": [],
   "source": [
    "basic_feature = ['runtime','rating', 'budget', 'box_office', 'votes', 'wins', 'nominations']\n",
    "basic_X = train[basic_feature]\n",
    "basic_y = train['success']"
   ]
  },
  {
   "cell_type": "code",
   "execution_count": 48,
   "metadata": {},
   "outputs": [
    {
     "data": {
      "text/plain": [
       "((241, 7), (241,))"
      ]
     },
     "execution_count": 48,
     "metadata": {},
     "output_type": "execute_result"
    }
   ],
   "source": [
    "assert basic_X.shape[0] == basic_y.shape[0]\n",
    "basic_X_train, basic_X_validate, basic_y_train, basic_y_validate = train_test_split(basic_X, basic_y)\n",
    "basic_X_validate.shape, basic_y_validate.shape"
   ]
  },
  {
   "cell_type": "code",
   "execution_count": 49,
   "metadata": {},
   "outputs": [
    {
     "name": "stderr",
     "output_type": "stream",
     "text": [
      "C:\\Users\\user\\anaconda3\\lib\\site-packages\\sklearn\\linear_model\\_logistic.py:762: ConvergenceWarning: lbfgs failed to converge (status=1):\n",
      "STOP: TOTAL NO. of ITERATIONS REACHED LIMIT.\n",
      "\n",
      "Increase the number of iterations (max_iter) or scale the data as shown in:\n",
      "    https://scikit-learn.org/stable/modules/preprocessing.html\n",
      "Please also refer to the documentation for alternative solver options:\n",
      "    https://scikit-learn.org/stable/modules/linear_model.html#logistic-regression\n",
      "  n_iter_i = _check_optimize_result(\n",
      "C:\\Users\\user\\anaconda3\\lib\\site-packages\\sklearn\\linear_model\\_logistic.py:762: ConvergenceWarning: lbfgs failed to converge (status=1):\n",
      "STOP: TOTAL NO. of ITERATIONS REACHED LIMIT.\n",
      "\n",
      "Increase the number of iterations (max_iter) or scale the data as shown in:\n",
      "    https://scikit-learn.org/stable/modules/preprocessing.html\n",
      "Please also refer to the documentation for alternative solver options:\n",
      "    https://scikit-learn.org/stable/modules/linear_model.html#logistic-regression\n",
      "  n_iter_i = _check_optimize_result(\n",
      "C:\\Users\\user\\anaconda3\\lib\\site-packages\\sklearn\\linear_model\\_logistic.py:762: ConvergenceWarning: lbfgs failed to converge (status=1):\n",
      "STOP: TOTAL NO. of ITERATIONS REACHED LIMIT.\n",
      "\n",
      "Increase the number of iterations (max_iter) or scale the data as shown in:\n",
      "    https://scikit-learn.org/stable/modules/preprocessing.html\n",
      "Please also refer to the documentation for alternative solver options:\n",
      "    https://scikit-learn.org/stable/modules/linear_model.html#logistic-regression\n",
      "  n_iter_i = _check_optimize_result(\n"
     ]
    },
    {
     "name": "stdout",
     "output_type": "stream",
     "text": [
      "Accuracy / train:\t 0.9888888888888889\n",
      "Accuracy / validation:  0.9875518672199171\n"
     ]
    },
    {
     "name": "stderr",
     "output_type": "stream",
     "text": [
      "C:\\Users\\user\\anaconda3\\lib\\site-packages\\sklearn\\linear_model\\_logistic.py:762: ConvergenceWarning: lbfgs failed to converge (status=1):\n",
      "STOP: TOTAL NO. of ITERATIONS REACHED LIMIT.\n",
      "\n",
      "Increase the number of iterations (max_iter) or scale the data as shown in:\n",
      "    https://scikit-learn.org/stable/modules/preprocessing.html\n",
      "Please also refer to the documentation for alternative solver options:\n",
      "    https://scikit-learn.org/stable/modules/linear_model.html#logistic-regression\n",
      "  n_iter_i = _check_optimize_result(\n",
      "C:\\Users\\user\\anaconda3\\lib\\site-packages\\sklearn\\linear_model\\_logistic.py:762: ConvergenceWarning: lbfgs failed to converge (status=1):\n",
      "STOP: TOTAL NO. of ITERATIONS REACHED LIMIT.\n",
      "\n",
      "Increase the number of iterations (max_iter) or scale the data as shown in:\n",
      "    https://scikit-learn.org/stable/modules/preprocessing.html\n",
      "Please also refer to the documentation for alternative solver options:\n",
      "    https://scikit-learn.org/stable/modules/linear_model.html#logistic-regression\n",
      "  n_iter_i = _check_optimize_result(\n"
     ]
    }
   ],
   "source": [
    "logres = LogisticRegression()\n",
    "logres.fit(basic_X_train, basic_y_train)\n",
    "logres_y_pred = logres.predict(basic_X_validate)\n",
    "print('Accuracy / train:\\t', cross_val_score(logres, basic_X_train, basic_y_train).mean())\n",
    "print('Accuracy / validation: ', accuracy_score(logres_y_pred, basic_y_validate))"
   ]
  },
  {
   "cell_type": "code",
   "execution_count": null,
   "metadata": {},
   "outputs": [],
   "source": []
  },
  {
   "cell_type": "markdown",
   "metadata": {},
   "source": [
    "# Linear Regression"
   ]
  },
  {
   "cell_type": "code",
   "execution_count": 50,
   "metadata": {},
   "outputs": [
    {
     "data": {
      "text/plain": [
       "LinearRegression()"
      ]
     },
     "execution_count": 50,
     "metadata": {},
     "output_type": "execute_result"
    }
   ],
   "source": [
    "regressor = LinearRegression()\n",
    "regressor.fit(basic_X_train, basic_y_train)"
   ]
  },
  {
   "cell_type": "code",
   "execution_count": 51,
   "metadata": {},
   "outputs": [
    {
     "name": "stdout",
     "output_type": "stream",
     "text": [
      "Accuracy of linear regression classifier on test set : 0.183597095 \n"
     ]
    }
   ],
   "source": [
    "y_pred = regressor.predict(basic_X_validate)\n",
    "print('Accuracy of linear regression classifier on test set : {:.9f} '.format(regressor.score(basic_X_validate, basic_y_validate)))"
   ]
  },
  {
   "cell_type": "code",
   "execution_count": 52,
   "metadata": {},
   "outputs": [
    {
     "name": "stdout",
     "output_type": "stream",
     "text": [
      "R2 score 0.1835970947028127\n",
      "RMSE 0.45036890088973525\n"
     ]
    }
   ],
   "source": [
    "from sklearn.metrics import r2_score, mean_squared_error\n",
    "print(\"R2 score\", r2_score(basic_y_validate, y_pred))\n",
    "print(\"RMSE\", np.sqrt(mean_squared_error(basic_y_validate, y_pred)))"
   ]
  },
  {
   "cell_type": "code",
   "execution_count": 57,
   "metadata": {},
   "outputs": [
    {
     "ename": "ValueError",
     "evalue": "Expected 2D array, got 1D array instead:\narray=[1.1360e+01 3.2000e+01 5.8650e+01 5.0000e+00 6.6320e+01 1.9700e+02\n 3.0000e+00 1.1650e+01 2.2000e+02 6.3290e+01 9.1700e+01 1.7800e+02\n 3.8400e+01 1.0000e+00 2.2800e+00 2.0261e+02 1.5127e+02 6.4900e+01\n 1.8800e+02 2.0000e+00 3.4960e+01 1.9000e-01 5.8685e+02 2.0280e+01\n 1.0000e-03 1.7000e-01 1.7800e+00 7.2160e+01 4.0000e-01 6.6400e+00\n 3.0200e+00 1.0800e+02 1.7600e+01 6.1000e+01 1.5831e+02 1.2000e-01\n 2.7470e+01 4.0000e-02 4.4900e+00 1.0000e+00 6.8000e+01 2.4000e+00\n 3.7000e+00 2.2200e+00 3.9760e+01 3.0800e+02 1.5000e-01 4.7000e+01\n 1.0000e-02 6.2400e+00 5.8410e+01 3.2500e+02 1.0000e-03 6.0000e-01\n 2.4600e+00 2.3000e-01 6.0000e+01 4.0000e-02 2.0000e+00 1.9100e+00\n 1.7000e-01 6.5450e+01 1.7297e+02 1.1000e-01 1.9600e+00 1.5124e+02\n 5.2500e+00 8.3000e-03 1.4000e-02 5.6130e+01 1.8076e+02 7.2000e-01\n 2.0000e+01 2.0000e-01 4.0000e-03 4.8000e-01 4.1000e+01 2.0600e+00\n 9.7000e-01 2.3093e+02 3.7500e+00 2.8000e+00 9.1710e+01 3.9000e-01\n 2.0000e-02 1.3800e+00 3.9000e+01 9.3080e+01 5.7000e-01 4.5000e+01\n 6.8000e-01 2.5300e+00 1.8000e+02 3.7000e+00 5.2320e+01 1.9000e-01\n 2.9059e+02 8.8720e+01 5.3880e+01 2.9000e-01 1.5700e+01 1.1500e+02\n 4.0460e+01 3.4820e+01 1.1040e+02 2.1927e+02 7.0000e-02 9.1000e+01\n 8.0000e-02 7.2500e+00 1.2000e+02 3.3000e-01 4.0250e+01 1.5700e+00\n 1.0500e+01 9.8000e-01 3.0000e+00 6.5000e-01 3.0000e-02 4.5720e+01\n 4.6600e+01 8.4820e+01 4.2000e-01 2.5000e+00 1.8480e+01 5.8300e+00\n 8.0000e-02 1.2600e+02 1.8000e+00 5.7900e+00 1.4200e+01 4.8000e+01\n 4.1800e+00 1.5200e+02 3.0000e-02 3.6200e+00 1.0540e+01 1.2000e-01\n 3.0620e+01 1.3581e+02 1.7100e+02 1.4000e+01 3.2400e+00 1.9500e+02\n 5.0000e-02 8.6000e+01 1.2157e+02 1.4000e-01 7.7000e+00 9.6500e+02\n 2.0000e+01 2.0000e+00 2.5700e+01 1.4300e+02 7.6300e+00 1.0000e-03\n 2.5000e-01 1.0000e+01 9.8500e+00 1.5000e-01 2.1660e+01 1.7240e+01\n 2.2800e+02 1.0400e+02 1.6700e+00 2.1510e+01 2.5000e-01 3.3000e-01\n 1.3000e+00 1.1400e+00 2.7850e+01 1.8840e+02 9.3000e-01 3.0000e-02\n 2.9900e+00 2.0000e-01 3.3000e+01 1.1600e+00 3.2890e+01 7.5000e-03\n 2.0000e-02 7.0000e-02 5.0000e-01 1.0200e+01 1.6000e+00 2.5000e-01\n 1.8200e+00 1.0000e-02 8.8170e+01 1.8000e+00 3.1100e+02 1.0400e-01\n 4.3900e+01 8.5400e+02 6.6200e+00 8.5500e+00 2.4000e-01 4.1040e+01\n 1.3400e+00 5.9200e+00 2.7000e-01 4.0400e+00 2.4000e+01 5.0000e-02\n 4.1000e+01 7.5110e+01 4.2180e+01 6.0000e+00 4.6800e+01 2.3000e+01\n 3.3100e+00 9.1260e+01 1.1000e-01 1.7000e+01 3.2700e+00 3.2600e+00\n 2.8410e+01 3.2920e+01 6.5000e-01 1.5316e+02 2.9161e+02 1.1900e+02\n 3.0000e+01 1.2414e+02 1.0540e+01 6.1000e-01 2.2700e+00 2.7000e-01\n 2.4000e+00 2.1026e+02 6.4500e+01 2.5000e+01 1.2500e+02 1.7810e+02\n 1.9400e+01 1.2700e+00 1.2300e+02 2.5000e+00 1.0900e+01 3.1900e+00\n 1.0000e-01 1.2600e+01 2.2000e-01 1.0000e+01 1.5318e+02 1.7000e-01\n 5.0000e-02 4.7100e+01 7.0000e+00 9.6800e+01 5.0000e-01 8.1700e+00\n 1.2600e+02 1.0220e+01 3.1600e+01 8.5200e+01 3.8000e+01 3.7685e+02\n 2.8000e-01 1.5000e+01 1.2000e-01 1.4298e+02 5.0000e+00 9.4850e+01\n 5.6710e+01 2.1000e+03 2.5840e+01 3.9760e+01 2.2700e+01 4.9470e+01\n 2.8600e+00 1.5732e+02 6.0000e-01 9.0000e-02 2.6100e+01 3.0000e+00\n 4.0800e+01 5.5000e-01 6.0770e+01 4.7000e+01 1.4695e+02 2.8700e+01\n 6.0000e-01 5.0000e-01 4.9000e+00 3.1150e+01 6.2500e+00 1.0000e+01\n 5.0000e+00 1.9800e+01 4.3100e+00 2.7000e+01 8.6000e-01 2.1200e+02\n 1.1580e+01 9.0000e-02 4.0000e-01 3.6000e+00 2.1114e+02 8.1650e+01\n 1.4000e-01 2.1000e+02 1.4760e+01 3.1400e+00 1.2000e+01 3.7700e+00\n 1.7000e-01 5.0000e+00 1.0000e-01 7.2600e+01 4.9590e+01 1.7473e+02\n 2.2400e+00 2.0709e+02 3.0300e+02 4.0000e+00 5.0000e+00 4.2000e-01\n 3.3500e+00 2.9000e-01 2.0000e+00 1.2500e+00 1.5000e-01 1.2000e+01\n 8.0000e-01 7.3000e+01 3.9000e-01 3.6500e+01 2.4100e+00 6.0000e+01\n 2.1600e+02 1.3900e+02 5.0000e+00 3.6000e+01 7.8900e+01 9.0300e+00\n 4.3240e+02 8.3000e+01 7.0000e-01 4.7170e+01 2.8730e+01 4.1200e+00\n 7.5000e-01 2.1656e+02 3.4206e+02 6.4000e-01 5.3700e+00 9.3000e+01\n 3.5000e+00 8.0000e+01 1.3700e+01 6.2790e+01 1.4100e+02 2.4400e+00\n 1.0398e+02 2.0000e+00 2.0000e+01 4.3100e+00 2.2200e+02 3.7000e+01\n 4.6400e+01 8.0430e+01 3.1855e+02 1.2200e+00 2.5700e+00 1.5000e-01\n 5.0000e-02 5.0000e+00 5.7500e+00 2.0600e+02 2.0380e+01 9.0000e-02\n 1.2000e+01 2.1600e+02 1.1300e+00 3.0000e+00 7.4000e+01 2.9000e+01\n 3.4000e-01 5.8800e+01 1.0362e+02 4.5700e+00 9.8200e+00 9.9700e+01\n 4.6800e+00 9.6900e+02 1.2000e-01 2.1000e-01 2.3000e-01 3.3140e+01\n 1.2700e+01 9.6660e+01 1.5275e+02 2.0000e+02 1.4613e+02 3.5000e-01\n 3.8000e+00 3.5000e-01 1.2400e+01 2.8000e+00 8.0000e+00 1.9504e+02\n 1.0400e+00 1.0000e-01 3.1070e+01 4.0000e-01 1.2300e+00 9.2500e-01\n 4.3200e+00 4.0000e-01 1.3400e+00 1.3100e+01 6.0000e-02 4.0000e-02\n 3.1000e-01 2.2000e-01 8.0000e+00 6.5000e+01 2.2000e+01 4.8000e+00\n 8.3000e-02 6.5000e-01 1.0000e+01 1.0000e+00 1.7000e+01 1.2090e+01\n 1.7500e+01 5.4000e+01 2.3500e-01 2.0000e-01 1.8750e+01 3.4600e+00\n 2.5700e+00 4.0000e-01 9.3840e+01 1.2270e+01 1.2400e+00 1.5600e+00\n 1.9500e+00 5.1000e+00 3.0000e+01 1.9860e+01 7.0000e+00 2.2400e+01\n 9.0000e-01 4.2700e+00 3.0610e+01 1.0060e+01 1.0000e+02 3.3406e+02\n 1.0000e+00 1.3500e+00 1.4500e+00 1.9300e+02 3.6000e-01 6.5000e-03\n 8.0880e+01 8.5000e-02 1.9300e+00 1.2000e-01 3.2000e-01 3.0350e+01\n 1.5300e+02 2.0000e-01 2.9500e+00 4.6000e+01 3.8000e+01 1.3900e-01\n 8.7020e+01 2.2900e+00 3.7700e+01 1.3480e+00 4.0000e+00 6.5700e+01\n 7.6000e-01 7.0000e+00 1.1460e+01 1.5300e+02 1.5143e+02 7.6600e+00\n 2.5600e+01 1.8100e+00 2.0100e+01 2.0000e-02 3.5620e+02 3.0000e-03\n 1.5000e+00 9.7180e+01 9.5000e-01 2.8000e-01 1.5000e+01 1.0000e+01\n 3.9000e-01 5.2500e+00 1.0000e-03 4.3900e+00 1.7000e-01 4.4920e+01\n 7.1000e+01 1.7800e+00 1.3000e+00 4.7500e+00 2.0000e+01 2.8060e+01\n 3.0000e+00 2.5000e+00 2.5000e+00 5.0000e-01 7.2000e-01 3.5300e+01\n 1.2900e+00 2.8400e+00 3.0490e+01 6.4900e+01 1.0900e+00 2.8027e+02\n 2.1600e+01 3.5000e+00 2.1320e+01 4.3000e+01 4.7000e-01 9.6000e-01\n 2.0000e-01 1.9400e+01 1.6310e+01 4.7000e-01 2.0000e+00 1.1000e-01\n 1.6500e+00 4.7820e+01 3.4130e+01 6.6800e+00 5.0000e-01 1.2000e-01\n 4.6230e+01 9.0000e+00 1.3900e+00 2.6000e-01 9.1000e-01 1.2920e+01\n 5.0840e+01 2.1300e+00 2.0000e+01 8.3000e-02 1.5000e-01 2.2759e+02\n 1.5750e+01 5.5000e+00 9.0000e+00 1.6500e+01 5.0000e-01 6.8000e+00\n 5.0000e-03 5.7000e-01 1.7500e+01 5.2437e+02 7.2100e+01 1.5000e+02\n 8.4800e+00 1.9100e+00 4.2000e-01 2.5041e+02 1.8200e+00 2.8000e+01\n 1.2000e+01 1.3530e+01 3.4500e+00 9.3900e+00 2.4000e+01 4.7000e+01\n 1.5500e+01 2.0000e-02 9.0000e-02 1.1060e+01 9.4000e+01 7.5000e+01\n 3.6960e+01 5.0000e-03 4.8000e-01 1.0600e+01 7.1000e+01 2.5900e+01\n 3.9870e+01 7.9000e+01 1.1000e+00 9.5800e+00 2.0148e+02 2.3000e-01\n 4.9000e+01 1.7000e+01 2.3756e+02 1.1800e+00 8.4800e+00 1.3380e+01\n 6.4540e+01 1.1170e+02 7.5000e-03 1.3849e+02 1.9500e+01 3.4500e+01\n 2.4000e-01 1.2000e-01 3.3000e+01 1.1100e+00 8.0000e-01 4.0000e-01\n 2.7200e+00 4.1800e+01 5.1582e+02 2.1800e+00 7.5700e+01 3.8302e+02\n 4.8000e+01 6.3590e+01 1.3200e+00 2.7600e+00 8.1000e-02 1.2300e+00\n 2.0700e+02 1.6148e+02 5.5800e+02 2.2000e-01 8.6030e+01 8.1000e+01\n 1.7000e+01 3.8030e+01 9.9900e+00 7.8000e+01 1.4500e+02 4.4000e-01\n 6.0000e+00 1.5000e-01 1.0000e+01 2.8800e+01 8.9500e+00 6.2000e-01\n 1.9200e+00 3.0000e-02 2.4520e+01 9.1500e+00 2.6800e+00 3.2580e+01\n 5.0000e-02 1.2870e+01 2.3010e+01 8.2400e+00 1.2000e-02 1.5500e+00\n 1.6876e+02 1.7000e+01 2.0000e+00 3.7000e-01 1.7500e+02 1.8800e+00\n 1.1500e+02 7.6000e-01 1.0740e+02 4.3964e+02 4.6500e+01 1.7590e+02\n 2.4960e+01 1.5000e+01 9.2400e+00 2.0000e+00 1.0066e+02 6.0000e+00\n 1.1100e+00 3.0250e-01 3.4000e-01 5.8200e+01 3.8000e+01 9.9250e+01\n 2.0893e+02 6.7560e+01 1.1000e-01 1.0500e+00 4.2900e+01 1.3600e+02\n 1.3000e-01 1.7000e+02 2.5300e+00 1.4900e+00 2.3050e+01 1.5300e+00\n 2.9700e+01 1.0000e-01 5.0000e-02 1.1000e+02 3.9592e+02 4.1000e+01\n 1.1076e+02 1.5000e-01 7.0000e-03 1.4000e+01 2.2000e+01 7.1000e-01\n 6.0000e-01 8.4000e+01 5.0000e-01 1.8000e+01 2.0000e-03 1.0000e-01\n 3.7000e+01 3.0000e+01 1.2000e+01 1.3000e+00 7.7000e-01 7.1000e+01\n 5.0000e-02 5.0610e+01 5.2000e+00 6.1500e+00 3.0000e-01 2.2260e+01\n 9.0000e-02 2.5000e-01 1.0500e+00 3.3500e+02 1.1380e+01 2.4500e+00].\nReshape your data either using array.reshape(-1, 1) if your data has a single feature or array.reshape(1, -1) if it contains a single sample.",
     "output_type": "error",
     "traceback": [
      "\u001b[1;31m---------------------------------------------------------------------------\u001b[0m",
      "\u001b[1;31mValueError\u001b[0m                                Traceback (most recent call last)",
      "\u001b[1;32m<ipython-input-57-1394cd246d90>\u001b[0m in \u001b[0;36m<module>\u001b[1;34m\u001b[0m\n\u001b[0;32m      2\u001b[0m \u001b[1;33m\u001b[0m\u001b[0m\n\u001b[0;32m      3\u001b[0m \u001b[0mplt\u001b[0m\u001b[1;33m.\u001b[0m\u001b[0mscatter\u001b[0m\u001b[1;33m(\u001b[0m\u001b[0mbasic_X_train\u001b[0m\u001b[1;33m[\u001b[0m\u001b[1;34m'box_office'\u001b[0m\u001b[1;33m]\u001b[0m\u001b[1;33m,\u001b[0m \u001b[0mbasic_y_train\u001b[0m\u001b[1;33m,\u001b[0m \u001b[0mcolor\u001b[0m\u001b[1;33m=\u001b[0m\u001b[1;34m'red'\u001b[0m\u001b[1;33m)\u001b[0m\u001b[1;33m\u001b[0m\u001b[1;33m\u001b[0m\u001b[0m\n\u001b[1;32m----> 4\u001b[1;33m \u001b[0mplt\u001b[0m\u001b[1;33m.\u001b[0m\u001b[0mplot\u001b[0m\u001b[1;33m(\u001b[0m\u001b[0mbasic_X_train\u001b[0m\u001b[1;33m[\u001b[0m\u001b[1;34m'box_office'\u001b[0m\u001b[1;33m]\u001b[0m\u001b[1;33m.\u001b[0m\u001b[0mvalues\u001b[0m\u001b[1;33m.\u001b[0m\u001b[0mreshape\u001b[0m\u001b[1;33m(\u001b[0m\u001b[1;33m-\u001b[0m\u001b[1;36m1\u001b[0m\u001b[1;33m,\u001b[0m \u001b[1;36m1\u001b[0m\u001b[1;33m)\u001b[0m\u001b[1;33m,\u001b[0m \u001b[0mregressor\u001b[0m\u001b[1;33m.\u001b[0m\u001b[0mpredict\u001b[0m\u001b[1;33m(\u001b[0m\u001b[0mbasic_X_train\u001b[0m\u001b[1;33m[\u001b[0m\u001b[1;34m'box_office'\u001b[0m\u001b[1;33m]\u001b[0m\u001b[1;33m)\u001b[0m\u001b[1;33m,\u001b[0m \u001b[0mcolor\u001b[0m\u001b[1;33m=\u001b[0m\u001b[1;34m'blue'\u001b[0m\u001b[1;33m)\u001b[0m\u001b[1;33m\u001b[0m\u001b[1;33m\u001b[0m\u001b[0m\n\u001b[0m\u001b[0;32m      5\u001b[0m \u001b[0mplt\u001b[0m\u001b[1;33m.\u001b[0m\u001b[0mtitle\u001b[0m\u001b[1;33m(\u001b[0m\u001b[1;34m'Box Office vs Budget (Training Set)'\u001b[0m\u001b[1;33m)\u001b[0m\u001b[1;33m\u001b[0m\u001b[1;33m\u001b[0m\u001b[0m\n\u001b[0;32m      6\u001b[0m \u001b[0mplt\u001b[0m\u001b[1;33m.\u001b[0m\u001b[0mxlabel\u001b[0m\u001b[1;33m(\u001b[0m\u001b[1;34m'Budget'\u001b[0m\u001b[1;33m)\u001b[0m\u001b[1;33m\u001b[0m\u001b[1;33m\u001b[0m\u001b[0m\n",
      "\u001b[1;32m~\\anaconda3\\lib\\site-packages\\sklearn\\linear_model\\_base.py\u001b[0m in \u001b[0;36mpredict\u001b[1;34m(self, X)\u001b[0m\n\u001b[0;32m    234\u001b[0m             \u001b[0mReturns\u001b[0m \u001b[0mpredicted\u001b[0m \u001b[0mvalues\u001b[0m\u001b[1;33m.\u001b[0m\u001b[1;33m\u001b[0m\u001b[1;33m\u001b[0m\u001b[0m\n\u001b[0;32m    235\u001b[0m         \"\"\"\n\u001b[1;32m--> 236\u001b[1;33m         \u001b[1;32mreturn\u001b[0m \u001b[0mself\u001b[0m\u001b[1;33m.\u001b[0m\u001b[0m_decision_function\u001b[0m\u001b[1;33m(\u001b[0m\u001b[0mX\u001b[0m\u001b[1;33m)\u001b[0m\u001b[1;33m\u001b[0m\u001b[1;33m\u001b[0m\u001b[0m\n\u001b[0m\u001b[0;32m    237\u001b[0m \u001b[1;33m\u001b[0m\u001b[0m\n\u001b[0;32m    238\u001b[0m     \u001b[0m_preprocess_data\u001b[0m \u001b[1;33m=\u001b[0m \u001b[0mstaticmethod\u001b[0m\u001b[1;33m(\u001b[0m\u001b[0m_preprocess_data\u001b[0m\u001b[1;33m)\u001b[0m\u001b[1;33m\u001b[0m\u001b[1;33m\u001b[0m\u001b[0m\n",
      "\u001b[1;32m~\\anaconda3\\lib\\site-packages\\sklearn\\linear_model\\_base.py\u001b[0m in \u001b[0;36m_decision_function\u001b[1;34m(self, X)\u001b[0m\n\u001b[0;32m    216\u001b[0m         \u001b[0mcheck_is_fitted\u001b[0m\u001b[1;33m(\u001b[0m\u001b[0mself\u001b[0m\u001b[1;33m)\u001b[0m\u001b[1;33m\u001b[0m\u001b[1;33m\u001b[0m\u001b[0m\n\u001b[0;32m    217\u001b[0m \u001b[1;33m\u001b[0m\u001b[0m\n\u001b[1;32m--> 218\u001b[1;33m         \u001b[0mX\u001b[0m \u001b[1;33m=\u001b[0m \u001b[0mcheck_array\u001b[0m\u001b[1;33m(\u001b[0m\u001b[0mX\u001b[0m\u001b[1;33m,\u001b[0m \u001b[0maccept_sparse\u001b[0m\u001b[1;33m=\u001b[0m\u001b[1;33m[\u001b[0m\u001b[1;34m'csr'\u001b[0m\u001b[1;33m,\u001b[0m \u001b[1;34m'csc'\u001b[0m\u001b[1;33m,\u001b[0m \u001b[1;34m'coo'\u001b[0m\u001b[1;33m]\u001b[0m\u001b[1;33m)\u001b[0m\u001b[1;33m\u001b[0m\u001b[1;33m\u001b[0m\u001b[0m\n\u001b[0m\u001b[0;32m    219\u001b[0m         return safe_sparse_dot(X, self.coef_.T,\n\u001b[0;32m    220\u001b[0m                                dense_output=True) + self.intercept_\n",
      "\u001b[1;32m~\\anaconda3\\lib\\site-packages\\sklearn\\utils\\validation.py\u001b[0m in \u001b[0;36minner_f\u001b[1;34m(*args, **kwargs)\u001b[0m\n\u001b[0;32m     70\u001b[0m                           FutureWarning)\n\u001b[0;32m     71\u001b[0m         \u001b[0mkwargs\u001b[0m\u001b[1;33m.\u001b[0m\u001b[0mupdate\u001b[0m\u001b[1;33m(\u001b[0m\u001b[1;33m{\u001b[0m\u001b[0mk\u001b[0m\u001b[1;33m:\u001b[0m \u001b[0marg\u001b[0m \u001b[1;32mfor\u001b[0m \u001b[0mk\u001b[0m\u001b[1;33m,\u001b[0m \u001b[0marg\u001b[0m \u001b[1;32min\u001b[0m \u001b[0mzip\u001b[0m\u001b[1;33m(\u001b[0m\u001b[0msig\u001b[0m\u001b[1;33m.\u001b[0m\u001b[0mparameters\u001b[0m\u001b[1;33m,\u001b[0m \u001b[0margs\u001b[0m\u001b[1;33m)\u001b[0m\u001b[1;33m}\u001b[0m\u001b[1;33m)\u001b[0m\u001b[1;33m\u001b[0m\u001b[1;33m\u001b[0m\u001b[0m\n\u001b[1;32m---> 72\u001b[1;33m         \u001b[1;32mreturn\u001b[0m \u001b[0mf\u001b[0m\u001b[1;33m(\u001b[0m\u001b[1;33m**\u001b[0m\u001b[0mkwargs\u001b[0m\u001b[1;33m)\u001b[0m\u001b[1;33m\u001b[0m\u001b[1;33m\u001b[0m\u001b[0m\n\u001b[0m\u001b[0;32m     73\u001b[0m     \u001b[1;32mreturn\u001b[0m \u001b[0minner_f\u001b[0m\u001b[1;33m\u001b[0m\u001b[1;33m\u001b[0m\u001b[0m\n\u001b[0;32m     74\u001b[0m \u001b[1;33m\u001b[0m\u001b[0m\n",
      "\u001b[1;32m~\\anaconda3\\lib\\site-packages\\sklearn\\utils\\validation.py\u001b[0m in \u001b[0;36mcheck_array\u001b[1;34m(array, accept_sparse, accept_large_sparse, dtype, order, copy, force_all_finite, ensure_2d, allow_nd, ensure_min_samples, ensure_min_features, estimator)\u001b[0m\n\u001b[0;32m    617\u001b[0m             \u001b[1;31m# If input is 1D raise error\u001b[0m\u001b[1;33m\u001b[0m\u001b[1;33m\u001b[0m\u001b[1;33m\u001b[0m\u001b[0m\n\u001b[0;32m    618\u001b[0m             \u001b[1;32mif\u001b[0m \u001b[0marray\u001b[0m\u001b[1;33m.\u001b[0m\u001b[0mndim\u001b[0m \u001b[1;33m==\u001b[0m \u001b[1;36m1\u001b[0m\u001b[1;33m:\u001b[0m\u001b[1;33m\u001b[0m\u001b[1;33m\u001b[0m\u001b[0m\n\u001b[1;32m--> 619\u001b[1;33m                 raise ValueError(\n\u001b[0m\u001b[0;32m    620\u001b[0m                     \u001b[1;34m\"Expected 2D array, got 1D array instead:\\narray={}.\\n\"\u001b[0m\u001b[1;33m\u001b[0m\u001b[1;33m\u001b[0m\u001b[0m\n\u001b[0;32m    621\u001b[0m                     \u001b[1;34m\"Reshape your data either using array.reshape(-1, 1) if \"\u001b[0m\u001b[1;33m\u001b[0m\u001b[1;33m\u001b[0m\u001b[0m\n",
      "\u001b[1;31mValueError\u001b[0m: Expected 2D array, got 1D array instead:\narray=[1.1360e+01 3.2000e+01 5.8650e+01 5.0000e+00 6.6320e+01 1.9700e+02\n 3.0000e+00 1.1650e+01 2.2000e+02 6.3290e+01 9.1700e+01 1.7800e+02\n 3.8400e+01 1.0000e+00 2.2800e+00 2.0261e+02 1.5127e+02 6.4900e+01\n 1.8800e+02 2.0000e+00 3.4960e+01 1.9000e-01 5.8685e+02 2.0280e+01\n 1.0000e-03 1.7000e-01 1.7800e+00 7.2160e+01 4.0000e-01 6.6400e+00\n 3.0200e+00 1.0800e+02 1.7600e+01 6.1000e+01 1.5831e+02 1.2000e-01\n 2.7470e+01 4.0000e-02 4.4900e+00 1.0000e+00 6.8000e+01 2.4000e+00\n 3.7000e+00 2.2200e+00 3.9760e+01 3.0800e+02 1.5000e-01 4.7000e+01\n 1.0000e-02 6.2400e+00 5.8410e+01 3.2500e+02 1.0000e-03 6.0000e-01\n 2.4600e+00 2.3000e-01 6.0000e+01 4.0000e-02 2.0000e+00 1.9100e+00\n 1.7000e-01 6.5450e+01 1.7297e+02 1.1000e-01 1.9600e+00 1.5124e+02\n 5.2500e+00 8.3000e-03 1.4000e-02 5.6130e+01 1.8076e+02 7.2000e-01\n 2.0000e+01 2.0000e-01 4.0000e-03 4.8000e-01 4.1000e+01 2.0600e+00\n 9.7000e-01 2.3093e+02 3.7500e+00 2.8000e+00 9.1710e+01 3.9000e-01\n 2.0000e-02 1.3800e+00 3.9000e+01 9.3080e+01 5.7000e-01 4.5000e+01\n 6.8000e-01 2.5300e+00 1.8000e+02 3.7000e+00 5.2320e+01 1.9000e-01\n 2.9059e+02 8.8720e+01 5.3880e+01 2.9000e-01 1.5700e+01 1.1500e+02\n 4.0460e+01 3.4820e+01 1.1040e+02 2.1927e+02 7.0000e-02 9.1000e+01\n 8.0000e-02 7.2500e+00 1.2000e+02 3.3000e-01 4.0250e+01 1.5700e+00\n 1.0500e+01 9.8000e-01 3.0000e+00 6.5000e-01 3.0000e-02 4.5720e+01\n 4.6600e+01 8.4820e+01 4.2000e-01 2.5000e+00 1.8480e+01 5.8300e+00\n 8.0000e-02 1.2600e+02 1.8000e+00 5.7900e+00 1.4200e+01 4.8000e+01\n 4.1800e+00 1.5200e+02 3.0000e-02 3.6200e+00 1.0540e+01 1.2000e-01\n 3.0620e+01 1.3581e+02 1.7100e+02 1.4000e+01 3.2400e+00 1.9500e+02\n 5.0000e-02 8.6000e+01 1.2157e+02 1.4000e-01 7.7000e+00 9.6500e+02\n 2.0000e+01 2.0000e+00 2.5700e+01 1.4300e+02 7.6300e+00 1.0000e-03\n 2.5000e-01 1.0000e+01 9.8500e+00 1.5000e-01 2.1660e+01 1.7240e+01\n 2.2800e+02 1.0400e+02 1.6700e+00 2.1510e+01 2.5000e-01 3.3000e-01\n 1.3000e+00 1.1400e+00 2.7850e+01 1.8840e+02 9.3000e-01 3.0000e-02\n 2.9900e+00 2.0000e-01 3.3000e+01 1.1600e+00 3.2890e+01 7.5000e-03\n 2.0000e-02 7.0000e-02 5.0000e-01 1.0200e+01 1.6000e+00 2.5000e-01\n 1.8200e+00 1.0000e-02 8.8170e+01 1.8000e+00 3.1100e+02 1.0400e-01\n 4.3900e+01 8.5400e+02 6.6200e+00 8.5500e+00 2.4000e-01 4.1040e+01\n 1.3400e+00 5.9200e+00 2.7000e-01 4.0400e+00 2.4000e+01 5.0000e-02\n 4.1000e+01 7.5110e+01 4.2180e+01 6.0000e+00 4.6800e+01 2.3000e+01\n 3.3100e+00 9.1260e+01 1.1000e-01 1.7000e+01 3.2700e+00 3.2600e+00\n 2.8410e+01 3.2920e+01 6.5000e-01 1.5316e+02 2.9161e+02 1.1900e+02\n 3.0000e+01 1.2414e+02 1.0540e+01 6.1000e-01 2.2700e+00 2.7000e-01\n 2.4000e+00 2.1026e+02 6.4500e+01 2.5000e+01 1.2500e+02 1.7810e+02\n 1.9400e+01 1.2700e+00 1.2300e+02 2.5000e+00 1.0900e+01 3.1900e+00\n 1.0000e-01 1.2600e+01 2.2000e-01 1.0000e+01 1.5318e+02 1.7000e-01\n 5.0000e-02 4.7100e+01 7.0000e+00 9.6800e+01 5.0000e-01 8.1700e+00\n 1.2600e+02 1.0220e+01 3.1600e+01 8.5200e+01 3.8000e+01 3.7685e+02\n 2.8000e-01 1.5000e+01 1.2000e-01 1.4298e+02 5.0000e+00 9.4850e+01\n 5.6710e+01 2.1000e+03 2.5840e+01 3.9760e+01 2.2700e+01 4.9470e+01\n 2.8600e+00 1.5732e+02 6.0000e-01 9.0000e-02 2.6100e+01 3.0000e+00\n 4.0800e+01 5.5000e-01 6.0770e+01 4.7000e+01 1.4695e+02 2.8700e+01\n 6.0000e-01 5.0000e-01 4.9000e+00 3.1150e+01 6.2500e+00 1.0000e+01\n 5.0000e+00 1.9800e+01 4.3100e+00 2.7000e+01 8.6000e-01 2.1200e+02\n 1.1580e+01 9.0000e-02 4.0000e-01 3.6000e+00 2.1114e+02 8.1650e+01\n 1.4000e-01 2.1000e+02 1.4760e+01 3.1400e+00 1.2000e+01 3.7700e+00\n 1.7000e-01 5.0000e+00 1.0000e-01 7.2600e+01 4.9590e+01 1.7473e+02\n 2.2400e+00 2.0709e+02 3.0300e+02 4.0000e+00 5.0000e+00 4.2000e-01\n 3.3500e+00 2.9000e-01 2.0000e+00 1.2500e+00 1.5000e-01 1.2000e+01\n 8.0000e-01 7.3000e+01 3.9000e-01 3.6500e+01 2.4100e+00 6.0000e+01\n 2.1600e+02 1.3900e+02 5.0000e+00 3.6000e+01 7.8900e+01 9.0300e+00\n 4.3240e+02 8.3000e+01 7.0000e-01 4.7170e+01 2.8730e+01 4.1200e+00\n 7.5000e-01 2.1656e+02 3.4206e+02 6.4000e-01 5.3700e+00 9.3000e+01\n 3.5000e+00 8.0000e+01 1.3700e+01 6.2790e+01 1.4100e+02 2.4400e+00\n 1.0398e+02 2.0000e+00 2.0000e+01 4.3100e+00 2.2200e+02 3.7000e+01\n 4.6400e+01 8.0430e+01 3.1855e+02 1.2200e+00 2.5700e+00 1.5000e-01\n 5.0000e-02 5.0000e+00 5.7500e+00 2.0600e+02 2.0380e+01 9.0000e-02\n 1.2000e+01 2.1600e+02 1.1300e+00 3.0000e+00 7.4000e+01 2.9000e+01\n 3.4000e-01 5.8800e+01 1.0362e+02 4.5700e+00 9.8200e+00 9.9700e+01\n 4.6800e+00 9.6900e+02 1.2000e-01 2.1000e-01 2.3000e-01 3.3140e+01\n 1.2700e+01 9.6660e+01 1.5275e+02 2.0000e+02 1.4613e+02 3.5000e-01\n 3.8000e+00 3.5000e-01 1.2400e+01 2.8000e+00 8.0000e+00 1.9504e+02\n 1.0400e+00 1.0000e-01 3.1070e+01 4.0000e-01 1.2300e+00 9.2500e-01\n 4.3200e+00 4.0000e-01 1.3400e+00 1.3100e+01 6.0000e-02 4.0000e-02\n 3.1000e-01 2.2000e-01 8.0000e+00 6.5000e+01 2.2000e+01 4.8000e+00\n 8.3000e-02 6.5000e-01 1.0000e+01 1.0000e+00 1.7000e+01 1.2090e+01\n 1.7500e+01 5.4000e+01 2.3500e-01 2.0000e-01 1.8750e+01 3.4600e+00\n 2.5700e+00 4.0000e-01 9.3840e+01 1.2270e+01 1.2400e+00 1.5600e+00\n 1.9500e+00 5.1000e+00 3.0000e+01 1.9860e+01 7.0000e+00 2.2400e+01\n 9.0000e-01 4.2700e+00 3.0610e+01 1.0060e+01 1.0000e+02 3.3406e+02\n 1.0000e+00 1.3500e+00 1.4500e+00 1.9300e+02 3.6000e-01 6.5000e-03\n 8.0880e+01 8.5000e-02 1.9300e+00 1.2000e-01 3.2000e-01 3.0350e+01\n 1.5300e+02 2.0000e-01 2.9500e+00 4.6000e+01 3.8000e+01 1.3900e-01\n 8.7020e+01 2.2900e+00 3.7700e+01 1.3480e+00 4.0000e+00 6.5700e+01\n 7.6000e-01 7.0000e+00 1.1460e+01 1.5300e+02 1.5143e+02 7.6600e+00\n 2.5600e+01 1.8100e+00 2.0100e+01 2.0000e-02 3.5620e+02 3.0000e-03\n 1.5000e+00 9.7180e+01 9.5000e-01 2.8000e-01 1.5000e+01 1.0000e+01\n 3.9000e-01 5.2500e+00 1.0000e-03 4.3900e+00 1.7000e-01 4.4920e+01\n 7.1000e+01 1.7800e+00 1.3000e+00 4.7500e+00 2.0000e+01 2.8060e+01\n 3.0000e+00 2.5000e+00 2.5000e+00 5.0000e-01 7.2000e-01 3.5300e+01\n 1.2900e+00 2.8400e+00 3.0490e+01 6.4900e+01 1.0900e+00 2.8027e+02\n 2.1600e+01 3.5000e+00 2.1320e+01 4.3000e+01 4.7000e-01 9.6000e-01\n 2.0000e-01 1.9400e+01 1.6310e+01 4.7000e-01 2.0000e+00 1.1000e-01\n 1.6500e+00 4.7820e+01 3.4130e+01 6.6800e+00 5.0000e-01 1.2000e-01\n 4.6230e+01 9.0000e+00 1.3900e+00 2.6000e-01 9.1000e-01 1.2920e+01\n 5.0840e+01 2.1300e+00 2.0000e+01 8.3000e-02 1.5000e-01 2.2759e+02\n 1.5750e+01 5.5000e+00 9.0000e+00 1.6500e+01 5.0000e-01 6.8000e+00\n 5.0000e-03 5.7000e-01 1.7500e+01 5.2437e+02 7.2100e+01 1.5000e+02\n 8.4800e+00 1.9100e+00 4.2000e-01 2.5041e+02 1.8200e+00 2.8000e+01\n 1.2000e+01 1.3530e+01 3.4500e+00 9.3900e+00 2.4000e+01 4.7000e+01\n 1.5500e+01 2.0000e-02 9.0000e-02 1.1060e+01 9.4000e+01 7.5000e+01\n 3.6960e+01 5.0000e-03 4.8000e-01 1.0600e+01 7.1000e+01 2.5900e+01\n 3.9870e+01 7.9000e+01 1.1000e+00 9.5800e+00 2.0148e+02 2.3000e-01\n 4.9000e+01 1.7000e+01 2.3756e+02 1.1800e+00 8.4800e+00 1.3380e+01\n 6.4540e+01 1.1170e+02 7.5000e-03 1.3849e+02 1.9500e+01 3.4500e+01\n 2.4000e-01 1.2000e-01 3.3000e+01 1.1100e+00 8.0000e-01 4.0000e-01\n 2.7200e+00 4.1800e+01 5.1582e+02 2.1800e+00 7.5700e+01 3.8302e+02\n 4.8000e+01 6.3590e+01 1.3200e+00 2.7600e+00 8.1000e-02 1.2300e+00\n 2.0700e+02 1.6148e+02 5.5800e+02 2.2000e-01 8.6030e+01 8.1000e+01\n 1.7000e+01 3.8030e+01 9.9900e+00 7.8000e+01 1.4500e+02 4.4000e-01\n 6.0000e+00 1.5000e-01 1.0000e+01 2.8800e+01 8.9500e+00 6.2000e-01\n 1.9200e+00 3.0000e-02 2.4520e+01 9.1500e+00 2.6800e+00 3.2580e+01\n 5.0000e-02 1.2870e+01 2.3010e+01 8.2400e+00 1.2000e-02 1.5500e+00\n 1.6876e+02 1.7000e+01 2.0000e+00 3.7000e-01 1.7500e+02 1.8800e+00\n 1.1500e+02 7.6000e-01 1.0740e+02 4.3964e+02 4.6500e+01 1.7590e+02\n 2.4960e+01 1.5000e+01 9.2400e+00 2.0000e+00 1.0066e+02 6.0000e+00\n 1.1100e+00 3.0250e-01 3.4000e-01 5.8200e+01 3.8000e+01 9.9250e+01\n 2.0893e+02 6.7560e+01 1.1000e-01 1.0500e+00 4.2900e+01 1.3600e+02\n 1.3000e-01 1.7000e+02 2.5300e+00 1.4900e+00 2.3050e+01 1.5300e+00\n 2.9700e+01 1.0000e-01 5.0000e-02 1.1000e+02 3.9592e+02 4.1000e+01\n 1.1076e+02 1.5000e-01 7.0000e-03 1.4000e+01 2.2000e+01 7.1000e-01\n 6.0000e-01 8.4000e+01 5.0000e-01 1.8000e+01 2.0000e-03 1.0000e-01\n 3.7000e+01 3.0000e+01 1.2000e+01 1.3000e+00 7.7000e-01 7.1000e+01\n 5.0000e-02 5.0610e+01 5.2000e+00 6.1500e+00 3.0000e-01 2.2260e+01\n 9.0000e-02 2.5000e-01 1.0500e+00 3.3500e+02 1.1380e+01 2.4500e+00].\nReshape your data either using array.reshape(-1, 1) if your data has a single feature or array.reshape(1, -1) if it contains a single sample."
     ]
    },
    {
     "data": {
      "image/png": "[encoded data removed]",
      "text/plain": [
       "<Figure size 432x288 with 1 Axes>"
      ]
     },
     "metadata": {
      "needs_background": "light"
     },
     "output_type": "display_data"
    }
   ],
   "source": [
    "# Visualizing the Training set results\n",
    "\n",
    "plt.scatter(basic_X_train['box_office'], basic_y_train, color='red')\n",
    "plt.plot(basic_X_train['box_office'].values.reshape(-1, 1), regressor.predict(basic_X_train['box_office']), color='blue')\n",
    "plt.title('Box Office vs Budget (Training Set)')\n",
    "plt.xlabel('Budget')\n",
    "plt.ylabel('Box Office')\n",
    "\n",
    "plt.show()\n",
    "\n",
    "# Visualizing the Test set results\n",
    "\n",
    "plt.scatter(basic_X_validate['box_office'], basic_y_validate, color='red')\n",
    "plt.plot(basic_X_train['box_office'].values.reshape(-1, 1), regressor.predict(basic_X_train['box_office']), color='blue')\n",
    "plt.title('Box Office vs Budget (Test Set)')\n",
    "plt.xlabel('Budget')\n",
    "plt.ylabel('Box Office')\n",
    "\n",
    "plt.show()"
   ]
  },
  {
   "cell_type": "markdown",
   "metadata": {},
   "source": [
    "# Ridge Regression"
   ]
  },
  {
   "cell_type": "code",
   "execution_count": 14,
   "metadata": {},
   "outputs": [],
   "source": [
    "from sklearn.datasets import load_boston\n",
    "from sklearn.linear_model import Ridge, RidgeCV\n",
    "from sklearn.metrics import mean_squared_error\n",
    "from sklearn.model_selection import train_test_split\n",
    "import matplotlib.pyplot as plt\n",
    "import numpy as np"
   ]
  },
  {
   "cell_type": "code",
   "execution_count": 15,
   "metadata": {},
   "outputs": [],
   "source": [
    "x, y = train.box_office, train.success\n",
    "xtrain, xtest, ytrain, ytest = train_test_split(x, y, test_size=0.15)\n",
    "x = np.array(x).reshape(-1, 1)\n",
    "y = np.array(y).reshape(-1, 1)"
   ]
  },
  {
   "cell_type": "code",
   "execution_count": 16,
   "metadata": {},
   "outputs": [
    {
     "data": {
      "text/plain": [
       "array([[1.e-06],\n",
       "       [1.e-05],\n",
       "       [1.e-04],\n",
       "       [1.e-03],\n",
       "       [1.e-02],\n",
       "       [1.e-01],\n",
       "       [5.e-01],\n",
       "       [1.e+00]])"
      ]
     },
     "execution_count": 16,
     "metadata": {},
     "output_type": "execute_result"
    }
   ],
   "source": [
    "alphas = [0.000001, 0.00001, 0.0001, 0.001, 0.01, 0.1,0.5, 1]\n",
    "alphas = np.array(alphas).reshape(-1, 1)\n",
    "alphas"
   ]
  },
  {
   "cell_type": "code",
   "execution_count": 17,
   "metadata": {},
   "outputs": [
    {
     "data": {
      "text/plain": [
       "((961, 1), (961, 1), (8, 1))"
      ]
     },
     "execution_count": 17,
     "metadata": {},
     "output_type": "execute_result"
    }
   ],
   "source": [
    "x.shape, y.shape, alphas.shape"
   ]
  },
  {
   "cell_type": "code",
   "execution_count": 18,
   "metadata": {},
   "outputs": [
    {
     "name": "stdout",
     "output_type": "stream",
     "text": [
      "Alpha  :  [1.e-06],   R2  :  0.17592282873741505,   MSE   :   0.20306905654869947,   RMSE   :   0.4506318414722815\n",
      "Alpha  :  [1.e-05],   R2  :  0.1759228287199992,   MSE   :   0.2030690565529911,   RMSE   :   0.4506318414770433\n",
      "Alpha  :  [0.0001],   R2  :  0.17592282697871453,   MSE   :   0.20306905698207836,   RMSE   :   0.45063184195313843\n",
      "Alpha  :  [0.001],   R2  :  0.17592265316608102,   MSE   :   0.20306909981297908,   RMSE   :   0.4506318894762987\n",
      "Alpha  :  [0.01],   R2  :  0.17590558309218984,   MSE   :   0.20307330621975891,   RMSE   :   0.45063655668371927\n",
      "Alpha  :  [0.1],   R2  :  0.17446892106207368,   MSE   :   0.20342732840749655,   RMSE   :   0.4510291879773376\n",
      "Alpha  :  [0.5],   R2  :  0.15637584776674762,   MSE   :   0.20788582265084407,   RMSE   :   0.45594497765722136\n",
      "Alpha  :  [1.],   R2  :  0.1319421215531934,   MSE   :   0.21390678027857898,   RMSE   :   0.46250057327378413\n"
     ]
    }
   ],
   "source": [
    "for a in alphas:\n",
    " model = Ridge(alpha=a, normalize=True).fit(x,y)\n",
    " score = model.score(x, y)\n",
    " pred_y = model.predict(x)\n",
    " mse = mean_squared_error(y, pred_y) \n",
    " print(f\"Alpha  :  {a},   R2  :  {score},   MSE   :   {mse},   RMSE   :   {np.sqrt(mse)}\")"
   ]
  },
  {
   "cell_type": "code",
   "execution_count": null,
   "metadata": {},
   "outputs": [],
   "source": []
  },
  {
   "cell_type": "code",
   "execution_count": 19,
   "metadata": {},
   "outputs": [],
   "source": [
    "X = train['box_office']\n",
    "y = train['success']\n",
    "\n",
    "X = np.array(X).reshape(-1, 1)\n",
    "y = np.array(y).reshape(-1, 1)\n",
    "\n",
    "X_train, X_test, y_train, y_test = train_test_split(X, y, test_size=0.30, random_state=40)\n"
   ]
  },
  {
   "cell_type": "code",
   "execution_count": 20,
   "metadata": {},
   "outputs": [
    {
     "name": "stdout",
     "output_type": "stream",
     "text": [
      "RMSE value of training data :  0.45318799514739466\n",
      "R2 score value of training data :  0.16606543694518028\n",
      "RMSE value of testing data :  0.4479581521217403\n",
      "R2 score value of testing data :  0.1867300440607449\n"
     ]
    }
   ],
   "source": [
    "from sklearn.linear_model import Lasso\n",
    "model_lasso = Lasso(alpha=0.01)\n",
    "model_lasso.fit(X_train, y_train) \n",
    "pred_train_lasso= model_lasso.predict(X_train)\n",
    "print(\"RMSE value of training data : \", np.sqrt(mean_squared_error(y_train,pred_train_lasso)))\n",
    "print(\"R2 score value of training data : \",r2_score(y_train, pred_train_lasso))\n",
    "\n",
    "pred_test_lasso= model_lasso.predict(X_test)\n",
    "print(\"RMSE value of testing data : \",np.sqrt(mean_squared_error(y_test,pred_test_lasso))) \n",
    "print(\"R2 score value of testing data : \",r2_score(y_test, pred_test_lasso))"
   ]
  },
  {
   "cell_type": "code",
   "execution_count": null,
   "metadata": {},
   "outputs": [],
   "source": []
  },
  {
   "cell_type": "code",
   "execution_count": null,
   "metadata": {},
   "outputs": [],
   "source": []
  },
  {
   "cell_type": "code",
   "execution_count": 21,
   "metadata": {},
   "outputs": [],
   "source": [
    "from sklearn.linear_model import Ridge\n",
    "R = Ridge(alpha=0.0001)"
   ]
  },
  {
   "cell_type": "code",
   "execution_count": null,
   "metadata": {},
   "outputs": [],
   "source": []
  },
  {
   "cell_type": "code",
   "execution_count": 22,
   "metadata": {},
   "outputs": [
    {
     "data": {
      "text/plain": [
       "Ridge(alpha=0.0001)"
      ]
     },
     "execution_count": 22,
     "metadata": {},
     "output_type": "execute_result"
    }
   ],
   "source": [
    "R.fit(basic_X_train, basic_y_train)"
   ]
  },
  {
   "cell_type": "code",
   "execution_count": 23,
   "metadata": {},
   "outputs": [],
   "source": [
    "y_pred1 = R.predict(basic_X_validate)"
   ]
  },
  {
   "cell_type": "code",
   "execution_count": 24,
   "metadata": {},
   "outputs": [
    {
     "name": "stdout",
     "output_type": "stream",
     "text": [
      "R2 score 0.051496627985832766\n",
      "RMSE 0.48118256516116625\n"
     ]
    }
   ],
   "source": [
    "print(\"R2 score\", r2_score(basic_y_validate, y_pred1))\n",
    "print(\"RMSE\", np.sqrt(mean_squared_error(basic_y_validate, y_pred1)))"
   ]
  },
  {
   "cell_type": "code",
   "execution_count": 25,
   "metadata": {},
   "outputs": [
    {
     "name": "stdout",
     "output_type": "stream",
     "text": [
      "<class 'pandas.core.frame.DataFrame'>\n",
      "Int64Index: 241 entries, 348 to 734\n",
      "Data columns (total 4 columns):\n",
      " #   Column      Non-Null Count  Dtype  \n",
      "---  ------      --------------  -----  \n",
      " 0   runtime     241 non-null    int32  \n",
      " 1   budget      241 non-null    float64\n",
      " 2   box_office  241 non-null    float64\n",
      " 3   votes       241 non-null    int64  \n",
      "dtypes: float64(2), int32(1), int64(1)\n",
      "memory usage: 8.5 KB\n"
     ]
    },
    {
     "data": {
      "text/plain": [
       "((241, 4),\n",
       " (241,),\n",
       " None,\n",
       " 348    1\n",
       " 132    0\n",
       " 532    0\n",
       " 386    0\n",
       " 325    1\n",
       "       ..\n",
       " 421    0\n",
       " 2      1\n",
       " 375    1\n",
       " 262    0\n",
       " 734    1\n",
       " Name: success, Length: 241, dtype: int32)"
      ]
     },
     "execution_count": 25,
     "metadata": {},
     "output_type": "execute_result"
    }
   ],
   "source": [
    "basic_X_validate.shape, basic_y_validate.shape, basic_X_validate.info(), basic_y_validate"
   ]
  },
  {
   "cell_type": "code",
   "execution_count": 26,
   "metadata": {},
   "outputs": [
    {
     "data": {
      "text/plain": [
       "348    64.00\n",
       "132    19.00\n",
       "532     3.75\n",
       "386    11.00\n",
       "325    30.00\n",
       "       ...  \n",
       "421     5.00\n",
       "2      18.00\n",
       "375    12.00\n",
       "262     3.00\n",
       "734    20.00\n",
       "Name: budget, Length: 241, dtype: float64"
      ]
     },
     "execution_count": 26,
     "metadata": {},
     "output_type": "execute_result"
    }
   ],
   "source": [
    "basic_X_validate['budget']"
   ]
  },
  {
   "cell_type": "code",
   "execution_count": 27,
   "metadata": {},
   "outputs": [
    {
     "data": {
      "image/png": "[encoded data removed]",
      "text/plain": [
       "<Figure size 432x288 with 1 Axes>"
      ]
     },
     "metadata": {
      "needs_background": "light"
     },
     "output_type": "display_data"
    }
   ],
   "source": [
    "# Visualization on test set     \n",
    "plt.scatter( basic_X_validate['box_office'], basic_y_validate, color = 'blue' )    \n",
    "plt.scatter( basic_X_validate['box_office'], y_pred1, color = 'orange' )    \n",
    "plt.title( 'Salary vs Experience' )    \n",
    "plt.xlabel( 'Years of Experience' )    \n",
    "plt.ylabel( 'Salary' )    \n",
    "plt.show()"
   ]
  },
  {
   "cell_type": "code",
   "execution_count": null,
   "metadata": {},
   "outputs": [],
   "source": []
  },
  {
   "cell_type": "markdown",
   "metadata": {},
   "source": [
    "# Grid LogReg"
   ]
  },
  {
   "cell_type": "code",
   "execution_count": 29,
   "metadata": {},
   "outputs": [
    {
     "ename": "ValueError",
     "evalue": "Found input variables with inconsistent numbers of samples: [241, 720]",
     "output_type": "error",
     "traceback": [
      "\u001b[1;31m---------------------------------------------------------------------------\u001b[0m",
      "\u001b[1;31mValueError\u001b[0m                                Traceback (most recent call last)",
      "\u001b[1;32m<ipython-input-29-b6eadad69932>\u001b[0m in \u001b[0;36m<module>\u001b[1;34m\u001b[0m\n\u001b[0;32m      1\u001b[0m \u001b[0mlogreg2\u001b[0m \u001b[1;33m=\u001b[0m \u001b[0mLogisticRegression\u001b[0m\u001b[1;33m(\u001b[0m\u001b[0mC\u001b[0m \u001b[1;33m=\u001b[0m \u001b[1;36m0.001\u001b[0m\u001b[1;33m,\u001b[0m \u001b[0mpenalty\u001b[0m\u001b[1;33m=\u001b[0m\u001b[1;34m\"l2\"\u001b[0m\u001b[1;33m)\u001b[0m\u001b[1;33m\u001b[0m\u001b[1;33m\u001b[0m\u001b[0m\n\u001b[0;32m      2\u001b[0m \u001b[0mlogreg2\u001b[0m\u001b[1;33m.\u001b[0m\u001b[0mfit\u001b[0m\u001b[1;33m(\u001b[0m\u001b[0mbasic_X_train\u001b[0m\u001b[1;33m,\u001b[0m \u001b[0mbasic_y_train\u001b[0m\u001b[1;33m)\u001b[0m\u001b[1;33m\u001b[0m\u001b[1;33m\u001b[0m\u001b[0m\n\u001b[1;32m----> 3\u001b[1;33m \u001b[0mprint\u001b[0m\u001b[1;33m(\u001b[0m\u001b[1;34m\"score\"\u001b[0m\u001b[1;33m,\u001b[0m \u001b[0mlogreg2\u001b[0m\u001b[1;33m.\u001b[0m\u001b[0mscore\u001b[0m\u001b[1;33m(\u001b[0m\u001b[0mbasic_X_train\u001b[0m\u001b[1;33m,\u001b[0m \u001b[0my_pred\u001b[0m\u001b[1;33m)\u001b[0m\u001b[1;33m)\u001b[0m\u001b[1;33m\u001b[0m\u001b[1;33m\u001b[0m\u001b[0m\n\u001b[0m",
      "\u001b[1;32m~\\anaconda3\\lib\\site-packages\\sklearn\\base.py\u001b[0m in \u001b[0;36mscore\u001b[1;34m(self, X, y, sample_weight)\u001b[0m\n\u001b[0;32m    497\u001b[0m         \"\"\"\n\u001b[0;32m    498\u001b[0m         \u001b[1;32mfrom\u001b[0m \u001b[1;33m.\u001b[0m\u001b[0mmetrics\u001b[0m \u001b[1;32mimport\u001b[0m \u001b[0maccuracy_score\u001b[0m\u001b[1;33m\u001b[0m\u001b[1;33m\u001b[0m\u001b[0m\n\u001b[1;32m--> 499\u001b[1;33m         \u001b[1;32mreturn\u001b[0m \u001b[0maccuracy_score\u001b[0m\u001b[1;33m(\u001b[0m\u001b[0my\u001b[0m\u001b[1;33m,\u001b[0m \u001b[0mself\u001b[0m\u001b[1;33m.\u001b[0m\u001b[0mpredict\u001b[0m\u001b[1;33m(\u001b[0m\u001b[0mX\u001b[0m\u001b[1;33m)\u001b[0m\u001b[1;33m,\u001b[0m \u001b[0msample_weight\u001b[0m\u001b[1;33m=\u001b[0m\u001b[0msample_weight\u001b[0m\u001b[1;33m)\u001b[0m\u001b[1;33m\u001b[0m\u001b[1;33m\u001b[0m\u001b[0m\n\u001b[0m\u001b[0;32m    500\u001b[0m \u001b[1;33m\u001b[0m\u001b[0m\n\u001b[0;32m    501\u001b[0m     \u001b[1;32mdef\u001b[0m \u001b[0m_more_tags\u001b[0m\u001b[1;33m(\u001b[0m\u001b[0mself\u001b[0m\u001b[1;33m)\u001b[0m\u001b[1;33m:\u001b[0m\u001b[1;33m\u001b[0m\u001b[1;33m\u001b[0m\u001b[0m\n",
      "\u001b[1;32m~\\anaconda3\\lib\\site-packages\\sklearn\\utils\\validation.py\u001b[0m in \u001b[0;36minner_f\u001b[1;34m(*args, **kwargs)\u001b[0m\n\u001b[0;32m     70\u001b[0m                           FutureWarning)\n\u001b[0;32m     71\u001b[0m         \u001b[0mkwargs\u001b[0m\u001b[1;33m.\u001b[0m\u001b[0mupdate\u001b[0m\u001b[1;33m(\u001b[0m\u001b[1;33m{\u001b[0m\u001b[0mk\u001b[0m\u001b[1;33m:\u001b[0m \u001b[0marg\u001b[0m \u001b[1;32mfor\u001b[0m \u001b[0mk\u001b[0m\u001b[1;33m,\u001b[0m \u001b[0marg\u001b[0m \u001b[1;32min\u001b[0m \u001b[0mzip\u001b[0m\u001b[1;33m(\u001b[0m\u001b[0msig\u001b[0m\u001b[1;33m.\u001b[0m\u001b[0mparameters\u001b[0m\u001b[1;33m,\u001b[0m \u001b[0margs\u001b[0m\u001b[1;33m)\u001b[0m\u001b[1;33m}\u001b[0m\u001b[1;33m)\u001b[0m\u001b[1;33m\u001b[0m\u001b[1;33m\u001b[0m\u001b[0m\n\u001b[1;32m---> 72\u001b[1;33m         \u001b[1;32mreturn\u001b[0m \u001b[0mf\u001b[0m\u001b[1;33m(\u001b[0m\u001b[1;33m**\u001b[0m\u001b[0mkwargs\u001b[0m\u001b[1;33m)\u001b[0m\u001b[1;33m\u001b[0m\u001b[1;33m\u001b[0m\u001b[0m\n\u001b[0m\u001b[0;32m     73\u001b[0m     \u001b[1;32mreturn\u001b[0m \u001b[0minner_f\u001b[0m\u001b[1;33m\u001b[0m\u001b[1;33m\u001b[0m\u001b[0m\n\u001b[0;32m     74\u001b[0m \u001b[1;33m\u001b[0m\u001b[0m\n",
      "\u001b[1;32m~\\anaconda3\\lib\\site-packages\\sklearn\\metrics\\_classification.py\u001b[0m in \u001b[0;36maccuracy_score\u001b[1;34m(y_true, y_pred, normalize, sample_weight)\u001b[0m\n\u001b[0;32m    185\u001b[0m \u001b[1;33m\u001b[0m\u001b[0m\n\u001b[0;32m    186\u001b[0m     \u001b[1;31m# Compute accuracy for each possible representation\u001b[0m\u001b[1;33m\u001b[0m\u001b[1;33m\u001b[0m\u001b[1;33m\u001b[0m\u001b[0m\n\u001b[1;32m--> 187\u001b[1;33m     \u001b[0my_type\u001b[0m\u001b[1;33m,\u001b[0m \u001b[0my_true\u001b[0m\u001b[1;33m,\u001b[0m \u001b[0my_pred\u001b[0m \u001b[1;33m=\u001b[0m \u001b[0m_check_targets\u001b[0m\u001b[1;33m(\u001b[0m\u001b[0my_true\u001b[0m\u001b[1;33m,\u001b[0m \u001b[0my_pred\u001b[0m\u001b[1;33m)\u001b[0m\u001b[1;33m\u001b[0m\u001b[1;33m\u001b[0m\u001b[0m\n\u001b[0m\u001b[0;32m    188\u001b[0m     \u001b[0mcheck_consistent_length\u001b[0m\u001b[1;33m(\u001b[0m\u001b[0my_true\u001b[0m\u001b[1;33m,\u001b[0m \u001b[0my_pred\u001b[0m\u001b[1;33m,\u001b[0m \u001b[0msample_weight\u001b[0m\u001b[1;33m)\u001b[0m\u001b[1;33m\u001b[0m\u001b[1;33m\u001b[0m\u001b[0m\n\u001b[0;32m    189\u001b[0m     \u001b[1;32mif\u001b[0m \u001b[0my_type\u001b[0m\u001b[1;33m.\u001b[0m\u001b[0mstartswith\u001b[0m\u001b[1;33m(\u001b[0m\u001b[1;34m'multilabel'\u001b[0m\u001b[1;33m)\u001b[0m\u001b[1;33m:\u001b[0m\u001b[1;33m\u001b[0m\u001b[1;33m\u001b[0m\u001b[0m\n",
      "\u001b[1;32m~\\anaconda3\\lib\\site-packages\\sklearn\\metrics\\_classification.py\u001b[0m in \u001b[0;36m_check_targets\u001b[1;34m(y_true, y_pred)\u001b[0m\n\u001b[0;32m     79\u001b[0m     \u001b[0my_pred\u001b[0m \u001b[1;33m:\u001b[0m \u001b[0marray\u001b[0m \u001b[1;32mor\u001b[0m \u001b[0mindicator\u001b[0m \u001b[0mmatrix\u001b[0m\u001b[1;33m\u001b[0m\u001b[1;33m\u001b[0m\u001b[0m\n\u001b[0;32m     80\u001b[0m     \"\"\"\n\u001b[1;32m---> 81\u001b[1;33m     \u001b[0mcheck_consistent_length\u001b[0m\u001b[1;33m(\u001b[0m\u001b[0my_true\u001b[0m\u001b[1;33m,\u001b[0m \u001b[0my_pred\u001b[0m\u001b[1;33m)\u001b[0m\u001b[1;33m\u001b[0m\u001b[1;33m\u001b[0m\u001b[0m\n\u001b[0m\u001b[0;32m     82\u001b[0m     \u001b[0mtype_true\u001b[0m \u001b[1;33m=\u001b[0m \u001b[0mtype_of_target\u001b[0m\u001b[1;33m(\u001b[0m\u001b[0my_true\u001b[0m\u001b[1;33m)\u001b[0m\u001b[1;33m\u001b[0m\u001b[1;33m\u001b[0m\u001b[0m\n\u001b[0;32m     83\u001b[0m     \u001b[0mtype_pred\u001b[0m \u001b[1;33m=\u001b[0m \u001b[0mtype_of_target\u001b[0m\u001b[1;33m(\u001b[0m\u001b[0my_pred\u001b[0m\u001b[1;33m)\u001b[0m\u001b[1;33m\u001b[0m\u001b[1;33m\u001b[0m\u001b[0m\n",
      "\u001b[1;32m~\\anaconda3\\lib\\site-packages\\sklearn\\utils\\validation.py\u001b[0m in \u001b[0;36mcheck_consistent_length\u001b[1;34m(*arrays)\u001b[0m\n\u001b[0;32m    253\u001b[0m     \u001b[0muniques\u001b[0m \u001b[1;33m=\u001b[0m \u001b[0mnp\u001b[0m\u001b[1;33m.\u001b[0m\u001b[0munique\u001b[0m\u001b[1;33m(\u001b[0m\u001b[0mlengths\u001b[0m\u001b[1;33m)\u001b[0m\u001b[1;33m\u001b[0m\u001b[1;33m\u001b[0m\u001b[0m\n\u001b[0;32m    254\u001b[0m     \u001b[1;32mif\u001b[0m \u001b[0mlen\u001b[0m\u001b[1;33m(\u001b[0m\u001b[0muniques\u001b[0m\u001b[1;33m)\u001b[0m \u001b[1;33m>\u001b[0m \u001b[1;36m1\u001b[0m\u001b[1;33m:\u001b[0m\u001b[1;33m\u001b[0m\u001b[1;33m\u001b[0m\u001b[0m\n\u001b[1;32m--> 255\u001b[1;33m         raise ValueError(\"Found input variables with inconsistent numbers of\"\n\u001b[0m\u001b[0;32m    256\u001b[0m                          \" samples: %r\" % [int(l) for l in lengths])\n\u001b[0;32m    257\u001b[0m \u001b[1;33m\u001b[0m\u001b[0m\n",
      "\u001b[1;31mValueError\u001b[0m: Found input variables with inconsistent numbers of samples: [241, 720]"
     ]
    }
   ],
   "source": [
    "logreg2 = LogisticRegression(C = 0.001, penalty=\"l2\")\n",
    "logreg2.fit(basic_X_train, basic_y_train)\n",
    "print(\"score\", logreg2.score(basic_X_train, y_pred))"
   ]
  },
  {
   "cell_type": "code",
   "execution_count": null,
   "metadata": {},
   "outputs": [],
   "source": [
    "train"
   ]
  },
  {
   "cell_type": "code",
   "execution_count": null,
   "metadata": {},
   "outputs": [],
   "source": [
    "# Random Forest"
   ]
  },
  {
   "cell_type": "code",
   "execution_count": null,
   "metadata": {},
   "outputs": [],
   "source": [
    "regressor = RandomForestRegressor(n_estimators=100)"
   ]
  },
  {
   "cell_type": "code",
   "execution_count": null,
   "metadata": {},
   "outputs": [],
   "source": [
    "#training the model\n",
    "regressor.fit(basic_X_train, basic_y_train)"
   ]
  },
  {
   "cell_type": "code",
   "execution_count": null,
   "metadata": {},
   "outputs": [],
   "source": [
    "#Prediction on test data\n",
    "test_data_prediction = regressor.predict(basic_X_validate)"
   ]
  },
  {
   "cell_type": "code",
   "execution_count": null,
   "metadata": {},
   "outputs": [],
   "source": [
    "print(test_data_prediction)"
   ]
  },
  {
   "cell_type": "code",
   "execution_count": null,
   "metadata": {},
   "outputs": [],
   "source": [
    "error_score = metrics.r2_score(basic_y_validate, test_data_prediction)\n",
    "print(\"R squared error : \", error_score)"
   ]
  },
  {
   "cell_type": "code",
   "execution_count": null,
   "metadata": {},
   "outputs": [],
   "source": [
    "basic_y_validate = list(basic_y_validate)"
   ]
  },
  {
   "cell_type": "code",
   "execution_count": null,
   "metadata": {},
   "outputs": [],
   "source": [
    "plt.plot(basic_y_validate, color='red', label = 'Actual Value')\n",
    "plt.plot(test_data_prediction, color='yellow', label='Predicted Values')\n",
    "plt.title('Actual Box Office vs Predicted Box Office')\n",
    "plt.xlabel('Number of values')\n",
    "plt.ylabel('Success')\n",
    "plt.legend()\n",
    "plt.show()"
   ]
  },
  {
   "cell_type": "code",
   "execution_count": null,
   "metadata": {},
   "outputs": [],
   "source": []
  },
  {
   "cell_type": "code",
   "execution_count": null,
   "metadata": {},
   "outputs": [],
   "source": []
  },
  {
   "cell_type": "code",
   "execution_count": null,
   "metadata": {},
   "outputs": [],
   "source": []
  },
  {
   "cell_type": "code",
   "execution_count": null,
   "metadata": {},
   "outputs": [],
   "source": [
    "genres_df = pd.read_csv('bollywood_data.csv')\n",
    "genres_df"
   ]
  },
  {
   "cell_type": "code",
   "execution_count": null,
   "metadata": {},
   "outputs": [],
   "source": [
    "#Droping columns which are not useful\n",
    "genres_df = genres_df.drop(['title_x','title_y', 'imdb_id', 'poster_path', 'wiki_link', 'is_adult', 'tagline', 'release_date', 'story', 'summary'], axis=1)"
   ]
  },
  {
   "cell_type": "code",
   "execution_count": null,
   "metadata": {},
   "outputs": [],
   "source": [
    "#Renaming columns for ease of references\n",
    "genres_df = genres_df.rename(columns={'original_title':'title', 'year_of_release':'year', 'imdb_rating':'rating', 'imdb_rating':'rating', 'imdb_votes':'votes', 'wins_nominations':'awards'})\n"
   ]
  },
  {
   "cell_type": "code",
   "execution_count": null,
   "metadata": {},
   "outputs": [],
   "source": [
    "#Data cleaning\n",
    "genres_df['box_office'] = genres_df['box office']\n",
    "genres_df = genres_df.drop(['box office'], axis = 1)\n",
    "genres_df['awards'] = genres_df['awards'].apply(lambda x : re.sub(r'[A-Za-z]', '', str(x)))\n",
    "\n",
    "genres_df[['wins', 'nominations']] = genres_df.awards.str.split('&', expand= True)\n",
    "\n",
    "genres_df['wins'] = genres_df['wins'].str.strip()\n",
    "genres_df['wins'] = genres_df['wins'].apply(lambda x: 0 if x=='' else x)\n",
    "genres_df['wins'] = genres_df['wins'].replace(np.nan, 0)\n",
    "genres_df['wins'] = genres_df['wins'].astype(int)\n",
    "genres_df['nominations'] = genres_df['nominations'].replace(np.nan, 0)\n",
    "genres_df['nominations'] = genres_df['nominations'].astype(int)\n",
    "\n",
    "genres_df['runtime'] = genres_df['runtime'].replace('\\\\N', np.nan)\n",
    "genres_df['runtime'] = genres_df['runtime'].ffill()\n",
    "genres_df['runtime'] = genres_df['runtime'].astype(int)\n",
    "genres_df = genres_df[genres_df['runtime'] >= 60]\n",
    "\n",
    "actors = genres_df.actors.str.split('|', expand=True)\n",
    "\n",
    "genres_df = genres_df.drop(['awards', 'actors', 'nominations'], axis=1)\n",
    "\n",
    "genres_df = genres_df[genres_df['year'] >= 2009]\n",
    "genres_df = genres_df.drop_duplicates()\n",
    "\n",
    "genres_df[\"success\"] = np.where(\n",
    "   (genres_df.box_office > genres_df.budget), \n",
    "   \"1\", \n",
    "   \"0\"\n",
    ")\n",
    "genres_df['success'] = genres_df['success'].astype(int)"
   ]
  },
  {
   "cell_type": "code",
   "execution_count": null,
   "metadata": {},
   "outputs": [],
   "source": [
    "Action = []\n",
    "Adventure = []\n",
    "Animation = []\n",
    "Biography = []\n",
    "Comedy = []\n",
    "Crime = []\n",
    "Drama = []\n",
    "Family = []\n",
    "Fantasy = []\n",
    "History = []\n",
    "Horror = []\n",
    "Music = []\n",
    "Musical = []\n",
    "Mystery = []\n",
    "Romance = []\n",
    "SciFi = []\n",
    "Short = []\n",
    "Sport = []\n",
    "Thriller = []\n",
    "War = []\n",
    "for row in genres_df['genres']:\n",
    "    row == row.split(\"|\")\n",
    "    if 'Action' in row: \n",
    "        \n",
    "        Action.append('1')\n",
    "    else:\n",
    "        Action.append('0')\n",
    "    if 'Adventure' in row:    \n",
    "        Adventure.append('1')\n",
    "    else:\n",
    "        Adventure.append('0')\n",
    "    if 'Animation' in row:    \n",
    "        Animation.append('1')\n",
    "    else:\n",
    "        Animation.append('0')\n",
    "    if 'Biography' in row:    \n",
    "        Biography.append('1')\n",
    "    else:\n",
    "        Biography.append('0')\n",
    "    if 'Comedy' in row:    \n",
    "        Comedy.append('1')\n",
    "    else:\n",
    "        Comedy.append('0')\n",
    "    if 'Crime' in row:    \n",
    "        Crime.append('1')\n",
    "    else:\n",
    "        Crime.append('0')\n",
    "    if 'Drama' in row:    \n",
    "        Drama.append('1')\n",
    "    else:\n",
    "        Drama.append('0')\n",
    "    if 'Family' in row:    \n",
    "        Family.append('1')\n",
    "    else:\n",
    "        Family.append('0')\n",
    "    if 'Fantasy' in row:    \n",
    "        Fantasy.append('1')\n",
    "    else:\n",
    "        Fantasy.append('0')\n",
    "    if 'History' in row:    \n",
    "        History.append('1')\n",
    "    else:\n",
    "        History.append('0')    \n",
    "    if 'Horror' in row:    \n",
    "        Horror.append('1')\n",
    "    else:\n",
    "        Horror.append('0') \n",
    "    if 'Music' in row:    \n",
    "        Music.append('1')\n",
    "    else:\n",
    "        Music.append('0')\n",
    "    if 'Musical' in row:    \n",
    "        Musical.append('1')\n",
    "    else:\n",
    "        Musical.append('0')\n",
    "    if 'Mystery' in row:    \n",
    "        Mystery.append('1')\n",
    "    else:\n",
    "        Mystery.append('0')\n",
    "    if 'Romance' in row:    \n",
    "        Romance.append('1')\n",
    "    else:\n",
    "        Romance.append('0')\n",
    "    if 'Sci-Fi' in row:    \n",
    "        SciFi.append('1')\n",
    "    else:\n",
    "        SciFi.append('0')\n",
    "    if 'Short' in row:    \n",
    "        Short.append('1')\n",
    "    else:\n",
    "        Short.append('0')\n",
    "    if 'Sport' in row:    \n",
    "        Sport.append('1')\n",
    "    else:\n",
    "        Sport.append('0')\n",
    "    if 'Thriller' in row:    \n",
    "        Thriller.append('1')\n",
    "    else:\n",
    "        Thriller.append('0')\n",
    "    if 'War' in row:    \n",
    "        War.append('1')\n",
    "    else:\n",
    "        War.append('0')\n",
    "        \n",
    "genres_df[\"Action\"] = Action\n",
    "genres_df[\"Adventure\"] = Adventure\n",
    "genres_df[\"Animation\"] = Animation\n",
    "genres_df[\"Biography\"] = Biography\n",
    "genres_df[\"Comedy\"] = Comedy\n",
    "genres_df[\"Crime\"] = Crime\n",
    "genres_df[\"Drama\"] = Drama\n",
    "genres_df[\"Family\"] = Family\n",
    "genres_df[\"Fantasy\"] = Fantasy\n",
    "genres_df[\"History\"] = History\n",
    "genres_df[\"Horror\"] = Horror\n",
    "genres_df[\"Music\"] = Music\n",
    "genres_df[\"Musical\"] = Musical\n",
    "genres_df[\"Mystery\"] = Mystery\n",
    "genres_df[\"Romance\"] = Romance\n",
    "genres_df[\"Sci-Fi\"] = SciFi\n",
    "genres_df[\"Short\"] = Short\n",
    "genres_df[\"Sport\"] = Sport\n",
    "genres_df[\"Thriller\"] = Thriller\n",
    "genres_df[\"War\"] = War\n",
    "\n",
    "genres_df['Action'] =genres_df['Action'].astype(int)\n",
    "genres_df['Adventure'] =genres_df['Adventure'].astype(int)\n",
    "genres_df['Animation'] =genres_df['Animation'].astype(int)\n",
    "genres_df['Biography'] =genres_df['Biography'].astype(int)\n",
    "genres_df['Comedy'] =genres_df['Comedy'].astype(int)\n",
    "genres_df['Crime'] =genres_df['Crime'].astype(int)\n",
    "genres_df['Drama'] =genres_df['Drama'].astype(int)\n",
    "genres_df['Family'] =genres_df['Family'].astype(int)\n",
    "genres_df['Fantasy'] =genres_df['Fantasy'].astype(int)\n",
    "genres_df['History'] =genres_df['History'].astype(int)\n",
    "genres_df['Horror'] =genres_df['Horror'].astype(int)\n",
    "genres_df['Music'] =genres_df['Music'].astype(int)\n",
    "genres_df['Musical'] =genres_df['Musical'].astype(int)\n",
    "genres_df['Mystery'] =genres_df['Mystery'].astype(int)\n",
    "genres_df['Romance'] =genres_df['Romance'].astype(int)\n",
    "genres_df['Sci-Fi'] =genres_df['Sci-Fi'].astype(int)\n",
    "genres_df['Short'] =genres_df['Short'].astype(int)\n",
    "genres_df['Sport'] =genres_df['Sport'].astype(int)\n",
    "genres_df['Thriller'] =genres_df['Thriller'].astype(int)\n",
    "genres_df['War'] =genres_df['War'].astype(int)\n",
    "\n",
    "genres_df = genres_df.drop(['genres'], axis=1)"
   ]
  },
  {
   "cell_type": "code",
   "execution_count": null,
   "metadata": {},
   "outputs": [],
   "source": [
    "genres_df.info()"
   ]
  },
  {
   "cell_type": "markdown",
   "metadata": {},
   "source": [
    "# Ridge Regression"
   ]
  },
  {
   "cell_type": "code",
   "execution_count": null,
   "metadata": {},
   "outputs": [],
   "source": []
  }
 ],
 "metadata": {
  "kernelspec": {
   "display_name": "Python 3",
   "language": "python",
   "name": "python3"
  },
  "language_info": {
   "codemirror_mode": {
    "name": "ipython",
    "version": 3
   },
   "file_extension": ".py",
   "mimetype": "text/x-python",
   "name": "python",
   "nbconvert_exporter": "python",
   "pygments_lexer": "ipython3",
   "version": "3.8.5"
  }
 },
 "nbformat": 4,
 "nbformat_minor": 4
}
